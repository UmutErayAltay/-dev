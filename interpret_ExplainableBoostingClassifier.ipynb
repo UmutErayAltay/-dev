{
 "cells": [
  {
   "cell_type": "code",
   "execution_count": 1,
   "id": "7566866c",
   "metadata": {},
   "outputs": [],
   "source": [
    "# Verimizi düzenleyeceğimiz pandas kütüphanemizi ekliyoruz.\n",
    "import pandas as pd\n",
    "# Verimizin doğruluk oranına bakacağımız accuracy_scoreve kütüphanemizi ekliyoruz.\n",
    "# Eğiteceğimiz verileri Train-Test olarak ayıracağımız sklearn kütüphanemizi ekliyoruz.\n",
    "from sklearn.model_selection import train_test_split\n",
    "from sklearn.metrics import accuracy_score\n",
    "# XAI algoritmalarımızdan interpret algoritmamızı ekliyoruz.\n",
    "from interpret.glassbox import ExplainableBoostingClassifier\n",
    "from interpret import show\n"
   ]
  },
  {
   "cell_type": "markdown",
   "id": "0d1a873c",
   "metadata": {},
   "source": [
    "Verimizi \" df \" değişkenine atıyoruz"
   ]
  },
  {
   "cell_type": "code",
   "execution_count": 2,
   "id": "06095e56",
   "metadata": {},
   "outputs": [
    {
     "data": {
      "text/html": [
       "<div>\n",
       "<style scoped>\n",
       "    .dataframe tbody tr th:only-of-type {\n",
       "        vertical-align: middle;\n",
       "    }\n",
       "\n",
       "    .dataframe tbody tr th {\n",
       "        vertical-align: top;\n",
       "    }\n",
       "\n",
       "    .dataframe thead th {\n",
       "        text-align: right;\n",
       "    }\n",
       "</style>\n",
       "<table border=\"1\" class=\"dataframe\">\n",
       "  <thead>\n",
       "    <tr style=\"text-align: right;\">\n",
       "      <th></th>\n",
       "      <th>Id</th>\n",
       "      <th>SepalLengthCm</th>\n",
       "      <th>SepalWidthCm</th>\n",
       "      <th>PetalLengthCm</th>\n",
       "      <th>PetalWidthCm</th>\n",
       "      <th>Species</th>\n",
       "    </tr>\n",
       "  </thead>\n",
       "  <tbody>\n",
       "    <tr>\n",
       "      <th>0</th>\n",
       "      <td>1</td>\n",
       "      <td>5.1</td>\n",
       "      <td>3.5</td>\n",
       "      <td>1.4</td>\n",
       "      <td>0.2</td>\n",
       "      <td>Iris-setosa</td>\n",
       "    </tr>\n",
       "    <tr>\n",
       "      <th>1</th>\n",
       "      <td>2</td>\n",
       "      <td>4.9</td>\n",
       "      <td>3.0</td>\n",
       "      <td>1.4</td>\n",
       "      <td>0.2</td>\n",
       "      <td>Iris-setosa</td>\n",
       "    </tr>\n",
       "    <tr>\n",
       "      <th>2</th>\n",
       "      <td>3</td>\n",
       "      <td>4.7</td>\n",
       "      <td>3.2</td>\n",
       "      <td>1.3</td>\n",
       "      <td>0.2</td>\n",
       "      <td>Iris-setosa</td>\n",
       "    </tr>\n",
       "    <tr>\n",
       "      <th>3</th>\n",
       "      <td>4</td>\n",
       "      <td>4.6</td>\n",
       "      <td>3.1</td>\n",
       "      <td>1.5</td>\n",
       "      <td>0.2</td>\n",
       "      <td>Iris-setosa</td>\n",
       "    </tr>\n",
       "    <tr>\n",
       "      <th>4</th>\n",
       "      <td>5</td>\n",
       "      <td>5.0</td>\n",
       "      <td>3.6</td>\n",
       "      <td>1.4</td>\n",
       "      <td>0.2</td>\n",
       "      <td>Iris-setosa</td>\n",
       "    </tr>\n",
       "    <tr>\n",
       "      <th>...</th>\n",
       "      <td>...</td>\n",
       "      <td>...</td>\n",
       "      <td>...</td>\n",
       "      <td>...</td>\n",
       "      <td>...</td>\n",
       "      <td>...</td>\n",
       "    </tr>\n",
       "    <tr>\n",
       "      <th>145</th>\n",
       "      <td>146</td>\n",
       "      <td>6.7</td>\n",
       "      <td>3.0</td>\n",
       "      <td>5.2</td>\n",
       "      <td>2.3</td>\n",
       "      <td>Iris-virginica</td>\n",
       "    </tr>\n",
       "    <tr>\n",
       "      <th>146</th>\n",
       "      <td>147</td>\n",
       "      <td>6.3</td>\n",
       "      <td>2.5</td>\n",
       "      <td>5.0</td>\n",
       "      <td>1.9</td>\n",
       "      <td>Iris-virginica</td>\n",
       "    </tr>\n",
       "    <tr>\n",
       "      <th>147</th>\n",
       "      <td>148</td>\n",
       "      <td>6.5</td>\n",
       "      <td>3.0</td>\n",
       "      <td>5.2</td>\n",
       "      <td>2.0</td>\n",
       "      <td>Iris-virginica</td>\n",
       "    </tr>\n",
       "    <tr>\n",
       "      <th>148</th>\n",
       "      <td>149</td>\n",
       "      <td>6.2</td>\n",
       "      <td>3.4</td>\n",
       "      <td>5.4</td>\n",
       "      <td>2.3</td>\n",
       "      <td>Iris-virginica</td>\n",
       "    </tr>\n",
       "    <tr>\n",
       "      <th>149</th>\n",
       "      <td>150</td>\n",
       "      <td>5.9</td>\n",
       "      <td>3.0</td>\n",
       "      <td>5.1</td>\n",
       "      <td>1.8</td>\n",
       "      <td>Iris-virginica</td>\n",
       "    </tr>\n",
       "  </tbody>\n",
       "</table>\n",
       "<p>150 rows × 6 columns</p>\n",
       "</div>"
      ],
      "text/plain": [
       "      Id  SepalLengthCm  SepalWidthCm  PetalLengthCm  PetalWidthCm  \\\n",
       "0      1            5.1           3.5            1.4           0.2   \n",
       "1      2            4.9           3.0            1.4           0.2   \n",
       "2      3            4.7           3.2            1.3           0.2   \n",
       "3      4            4.6           3.1            1.5           0.2   \n",
       "4      5            5.0           3.6            1.4           0.2   \n",
       "..   ...            ...           ...            ...           ...   \n",
       "145  146            6.7           3.0            5.2           2.3   \n",
       "146  147            6.3           2.5            5.0           1.9   \n",
       "147  148            6.5           3.0            5.2           2.0   \n",
       "148  149            6.2           3.4            5.4           2.3   \n",
       "149  150            5.9           3.0            5.1           1.8   \n",
       "\n",
       "            Species  \n",
       "0       Iris-setosa  \n",
       "1       Iris-setosa  \n",
       "2       Iris-setosa  \n",
       "3       Iris-setosa  \n",
       "4       Iris-setosa  \n",
       "..              ...  \n",
       "145  Iris-virginica  \n",
       "146  Iris-virginica  \n",
       "147  Iris-virginica  \n",
       "148  Iris-virginica  \n",
       "149  Iris-virginica  \n",
       "\n",
       "[150 rows x 6 columns]"
      ]
     },
     "execution_count": 2,
     "metadata": {},
     "output_type": "execute_result"
    }
   ],
   "source": [
    "df = pd.read_csv(\"veriler/Iris.csv\")\n",
    "df"
   ]
  },
  {
   "cell_type": "markdown",
   "id": "4faf1e0d",
   "metadata": {},
   "source": [
    "Train ve Test verilerimizi ayırıyoruz."
   ]
  },
  {
   "cell_type": "code",
   "execution_count": 3,
   "id": "522c824e",
   "metadata": {},
   "outputs": [],
   "source": [
    "X = df.drop([\"Species\",\"Id\"], axis=1)\n",
    "Y = df[\"Species\"]\n",
    "x_train, x_test, y_train, y_test = train_test_split(X, Y, test_size=0.5, shuffle=True)"
   ]
  },
  {
   "cell_type": "markdown",
   "id": "b6c06ea2",
   "metadata": {},
   "source": [
    "Modelimizi eğitiyoruz."
   ]
  },
  {
   "cell_type": "code",
   "execution_count": 4,
   "id": "babecd1f",
   "metadata": {},
   "outputs": [
    {
     "name": "stderr",
     "output_type": "stream",
     "text": [
      "C:\\Users\\umut6\\anaconda4\\lib\\site-packages\\interpret\\glassbox\\ebm\\ebm.py:568: UserWarning: Detected multiclass problem. Forcing interactions to 0. Multiclass interactions work except for global visualizations, so the line below setting interactions to zero can be disabled if you know what you are doing.\n",
      "  warn(\"Detected multiclass problem. Forcing interactions to 0. Multiclass interactions work except for global visualizations, so the line below setting interactions to zero can be disabled if you know what you are doing.\")\n"
     ]
    },
    {
     "data": {
      "text/plain": [
       "ExplainableBoostingClassifier()"
      ]
     },
     "execution_count": 4,
     "metadata": {},
     "output_type": "execute_result"
    }
   ],
   "source": [
    "model = ExplainableBoostingClassifier()\n",
    "model.fit(x_train, y_train)"
   ]
  },
  {
   "cell_type": "markdown",
   "id": "8d88b3ea",
   "metadata": {},
   "source": [
    "ExplainableBoostingClassifier() yöntemi, bir sınıflandırma modelinin performansını iyileştirmeyi amaçlayan bir yöntemdir. Bu yöntem, veri kümesine uygulanan bir dizi adım sırasında bir sınıflandırma modeli oluşturur ve bu modelin tahminlerini sürekli olarak iyileştirir. Bu yöntem aynı zamanda modelin tahminlerini açıklamak için güçlü bir özet sunar, bu sayede kullanıcılar modelin nasıl çalıştığını anlamaya yardımcı olur. Bu yöntem, veri kümesinin büyüklüğüne ve özelliklerine göre önemli ölçüde performans iyileştirmesi sağlayabilir."
   ]
  },
  {
   "cell_type": "markdown",
   "id": "45dfa5f4",
   "metadata": {},
   "source": [
    "Modelimizin doğruluğuna bakıyoruz."
   ]
  },
  {
   "cell_type": "code",
   "execution_count": 5,
   "id": "a1068e3b",
   "metadata": {},
   "outputs": [
    {
     "name": "stdout",
     "output_type": "stream",
     "text": [
      "Doğruluk Oranı:  94.66666666666667 %\n"
     ]
    }
   ],
   "source": [
    "y_predicted = model.predict(x_test)\n",
    "accuracy = accuracy_score(y_test, y_predicted)\n",
    "print(\"Doğruluk Oranı: \",  accuracy*100, \"%\")"
   ]
  },
  {
   "cell_type": "markdown",
   "id": "2c6f21fe",
   "metadata": {},
   "source": [
    "Modelimizi daha rahat anlayabilmemiz için İnterpret kütüphanesinin içindeki show() fonksiyonunu kullanıyoruz.\n",
    "\n",
    "Bu kısımda her özelliğin hangi aralıkta nasıl bir ağırlık verdiğini göstermektedir.\n",
    "Hangi özelliğin daha ağır olduğunu da göstermektedir."
   ]
  },
  {
   "cell_type": "code",
   "execution_count": 6,
   "id": "54654ba4",
   "metadata": {},
   "outputs": [
    {
     "data": {
      "text/html": [
       "<!-- http://127.0.0.1:7001/1790188505888/ -->\n",
       "<iframe src=\"http://127.0.0.1:7001/1790188505888/\" width=100% height=800 frameBorder=\"0\"></iframe>"
      ]
     },
     "metadata": {},
     "output_type": "display_data"
    }
   ],
   "source": [
    "model_global = model.explain_global()\n",
    "show(model_global)\n"
   ]
  },
  {
   "cell_type": "markdown",
   "id": "8c092612",
   "metadata": {},
   "source": [
    "\"Intercept\" değeri, bir veri noktasının tahmini etkileyen özelliklerin ağırlık değerlerinin toplamından sonra modelin kalan tahmin yapma sürecini ifade eder. Yani, \"Intercept\" değeri, veri noktasının tahmini etkileyen özelliklerin ağırlık değerlerinin toplamının veri noktasının tahmini üzerindeki etkisini gösterir.\n",
    "\n",
    "Bu açıdan, \"Intercept\" değeri, veri noktasının tahmini etkileyen özelliklerin ağırlık değerlerinin toplamından sonra modelin kalan tahmin yapma sürecini gösterir ve bu değer, veri noktasının tahmini üzerinde etkilidir.\n",
    "\n",
    "Böylece, show() fonksiyonu kullanılarak, verilen veri noktası için modelin tahmin yapma sürecini anlamaya yardımcı olan bilgiler gösterilebilir ve bu bilgiler arasında \"Intercept\" değeri de yer almaktadır."
   ]
  },
  {
   "cell_type": "code",
   "execution_count": 7,
   "id": "636348a5",
   "metadata": {
    "scrolled": true
   },
   "outputs": [
    {
     "data": {
      "text/html": [
       "<!-- http://127.0.0.1:7001/1790201402704/ -->\n",
       "<iframe src=\"http://127.0.0.1:7001/1790201402704/\" width=100% height=800 frameBorder=\"0\"></iframe>"
      ]
     },
     "metadata": {},
     "output_type": "display_data"
    }
   ],
   "source": [
    "model_local = model.explain_local(x_test, y_test)\n",
    "show(model_local)"
   ]
  },
  {
   "cell_type": "markdown",
   "id": "7dbfa7cd",
   "metadata": {},
   "source": [
    "Bu kısımda her özelliğin ne kadar etkili olduğu yazmaktadır local olarak. Yani her test verisinde hangi özellik ne kadar etkili onu görüyoruz.\n",
    "\n",
    "Örnek olarak 63. veride prScore (1.0) yazıyor bu %100 doğru olduğu anlamına geliyor.\n",
    "\n",
    "Bu örneğimizde PetalLengthCm özelliğinde Iris-setosa 2.918 çıkmış. Diğer özelliklerde de Iris-setosa pozitif çıkmıştır. Bu özelliklerin ağırlıklarının hepsi toplandığında ise Irıs-setosa en yüksek çıktığı için makinenin tahmini o olmuştur.\n",
    "\n",
    "(Kodu her çalıştırdığımızda shuffle=True olduğu için her seferinde farklı bir örnek çıkacaktır.)"
   ]
  },
  {
   "cell_type": "code",
   "execution_count": 13,
   "id": "e45a0d14",
   "metadata": {},
   "outputs": [
    {
     "data": {
      "text/plain": [
       "'Iris-setosa'"
      ]
     },
     "execution_count": 13,
     "metadata": {},
     "output_type": "execute_result"
    }
   ],
   "source": [
    "y_test.iloc[63]"
   ]
  },
  {
   "cell_type": "code",
   "execution_count": null,
   "id": "565de5fe",
   "metadata": {},
   "outputs": [],
   "source": []
  }
 ],
 "metadata": {
  "kernelspec": {
   "display_name": "Python 3 (ipykernel)",
   "language": "python",
   "name": "python3"
  },
  "language_info": {
   "codemirror_mode": {
    "name": "ipython",
    "version": 3
   },
   "file_extension": ".py",
   "mimetype": "text/x-python",
   "name": "python",
   "nbconvert_exporter": "python",
   "pygments_lexer": "ipython3",
   "version": "3.9.12"
  }
 },
 "nbformat": 4,
 "nbformat_minor": 5
}
