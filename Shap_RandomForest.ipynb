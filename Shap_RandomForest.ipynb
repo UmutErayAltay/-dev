{
  "cells": [
    {
      "cell_type": "markdown",
      "metadata": {
        "id": "view-in-github",
        "colab_type": "text"
      },
      "source": [
        "<a href=\"https://colab.research.google.com/github/UmutErayAltay/YapayZekayaGiris/blob/main/Shap_RandomForest.ipynb\" target=\"_parent\"><img src=\"https://colab.research.google.com/assets/colab-badge.svg\" alt=\"Open In Colab\"/></a>"
      ]
    },
    {
      "cell_type": "code",
      "source": [
        "!pip install shap"
      ],
      "metadata": {
        "id": "7BJA81KwB3_1",
        "outputId": "5558bd91-ad80-4364-abb9-31d678ca57b3",
        "colab": {
          "base_uri": "https://localhost:8080/"
        }
      },
      "id": "7BJA81KwB3_1",
      "execution_count": 1,
      "outputs": [
        {
          "output_type": "stream",
          "name": "stdout",
          "text": [
            "Looking in indexes: https://pypi.org/simple, https://us-python.pkg.dev/colab-wheels/public/simple/\n",
            "Collecting shap\n",
            "  Downloading shap-0.41.0-cp38-cp38-manylinux_2_12_x86_64.manylinux2010_x86_64.whl (575 kB)\n",
            "\u001b[K     |████████████████████████████████| 575 kB 24.6 MB/s \n",
            "\u001b[?25hCollecting slicer==0.0.7\n",
            "  Downloading slicer-0.0.7-py3-none-any.whl (14 kB)\n",
            "Requirement already satisfied: cloudpickle in /usr/local/lib/python3.8/dist-packages (from shap) (1.5.0)\n",
            "Requirement already satisfied: tqdm>4.25.0 in /usr/local/lib/python3.8/dist-packages (from shap) (4.64.1)\n",
            "Requirement already satisfied: packaging>20.9 in /usr/local/lib/python3.8/dist-packages (from shap) (21.3)\n",
            "Requirement already satisfied: numpy in /usr/local/lib/python3.8/dist-packages (from shap) (1.21.6)\n",
            "Requirement already satisfied: pandas in /usr/local/lib/python3.8/dist-packages (from shap) (1.3.5)\n",
            "Requirement already satisfied: numba in /usr/local/lib/python3.8/dist-packages (from shap) (0.56.4)\n",
            "Requirement already satisfied: scikit-learn in /usr/local/lib/python3.8/dist-packages (from shap) (1.0.2)\n",
            "Requirement already satisfied: scipy in /usr/local/lib/python3.8/dist-packages (from shap) (1.7.3)\n",
            "Requirement already satisfied: pyparsing!=3.0.5,>=2.0.2 in /usr/local/lib/python3.8/dist-packages (from packaging>20.9->shap) (3.0.9)\n",
            "Requirement already satisfied: llvmlite<0.40,>=0.39.0dev0 in /usr/local/lib/python3.8/dist-packages (from numba->shap) (0.39.1)\n",
            "Requirement already satisfied: setuptools in /usr/local/lib/python3.8/dist-packages (from numba->shap) (57.4.0)\n",
            "Requirement already satisfied: importlib-metadata in /usr/local/lib/python3.8/dist-packages (from numba->shap) (5.1.0)\n",
            "Requirement already satisfied: zipp>=0.5 in /usr/local/lib/python3.8/dist-packages (from importlib-metadata->numba->shap) (3.11.0)\n",
            "Requirement already satisfied: pytz>=2017.3 in /usr/local/lib/python3.8/dist-packages (from pandas->shap) (2022.6)\n",
            "Requirement already satisfied: python-dateutil>=2.7.3 in /usr/local/lib/python3.8/dist-packages (from pandas->shap) (2.8.2)\n",
            "Requirement already satisfied: six>=1.5 in /usr/local/lib/python3.8/dist-packages (from python-dateutil>=2.7.3->pandas->shap) (1.15.0)\n",
            "Requirement already satisfied: joblib>=0.11 in /usr/local/lib/python3.8/dist-packages (from scikit-learn->shap) (1.2.0)\n",
            "Requirement already satisfied: threadpoolctl>=2.0.0 in /usr/local/lib/python3.8/dist-packages (from scikit-learn->shap) (3.1.0)\n",
            "Installing collected packages: slicer, shap\n",
            "Successfully installed shap-0.41.0 slicer-0.0.7\n"
          ]
        }
      ]
    },
    {
      "cell_type": "code",
      "execution_count": null,
      "id": "a845cfb5",
      "metadata": {
        "id": "a845cfb5"
      },
      "outputs": [],
      "source": [
        "# Pandas\n",
        "import pandas as pd\n",
        "\n",
        "# Sklearn içindeki Eğitim-Test ve doğruluk kütüphanelerimizi ekliyoruz.\n",
        "from sklearn.model_selection import train_test_split\n",
        "from sklearn.metrics import accuracy_score\n",
        "\n",
        "# Tree based algorithms\n",
        "from sklearn.ensemble import RandomForestClassifier\n",
        "\n",
        "# XAI\n",
        "import shap"
      ]
    },
    {
      "cell_type": "code",
      "execution_count": null,
      "id": "7b19a568",
      "metadata": {
        "id": "7b19a568",
        "outputId": "c9e2066c-63d4-453d-af14-65002ea9e66a"
      },
      "outputs": [
        {
          "data": {
            "text/html": [
              "<div>\n",
              "<style scoped>\n",
              "    .dataframe tbody tr th:only-of-type {\n",
              "        vertical-align: middle;\n",
              "    }\n",
              "\n",
              "    .dataframe tbody tr th {\n",
              "        vertical-align: top;\n",
              "    }\n",
              "\n",
              "    .dataframe thead th {\n",
              "        text-align: right;\n",
              "    }\n",
              "</style>\n",
              "<table border=\"1\" class=\"dataframe\">\n",
              "  <thead>\n",
              "    <tr style=\"text-align: right;\">\n",
              "      <th></th>\n",
              "      <th>Id</th>\n",
              "      <th>SepalLengthCm</th>\n",
              "      <th>SepalWidthCm</th>\n",
              "      <th>PetalLengthCm</th>\n",
              "      <th>PetalWidthCm</th>\n",
              "      <th>Species</th>\n",
              "    </tr>\n",
              "  </thead>\n",
              "  <tbody>\n",
              "    <tr>\n",
              "      <th>0</th>\n",
              "      <td>1</td>\n",
              "      <td>5.1</td>\n",
              "      <td>3.5</td>\n",
              "      <td>1.4</td>\n",
              "      <td>0.2</td>\n",
              "      <td>Iris-setosa</td>\n",
              "    </tr>\n",
              "    <tr>\n",
              "      <th>1</th>\n",
              "      <td>2</td>\n",
              "      <td>4.9</td>\n",
              "      <td>3.0</td>\n",
              "      <td>1.4</td>\n",
              "      <td>0.2</td>\n",
              "      <td>Iris-setosa</td>\n",
              "    </tr>\n",
              "    <tr>\n",
              "      <th>2</th>\n",
              "      <td>3</td>\n",
              "      <td>4.7</td>\n",
              "      <td>3.2</td>\n",
              "      <td>1.3</td>\n",
              "      <td>0.2</td>\n",
              "      <td>Iris-setosa</td>\n",
              "    </tr>\n",
              "    <tr>\n",
              "      <th>3</th>\n",
              "      <td>4</td>\n",
              "      <td>4.6</td>\n",
              "      <td>3.1</td>\n",
              "      <td>1.5</td>\n",
              "      <td>0.2</td>\n",
              "      <td>Iris-setosa</td>\n",
              "    </tr>\n",
              "    <tr>\n",
              "      <th>4</th>\n",
              "      <td>5</td>\n",
              "      <td>5.0</td>\n",
              "      <td>3.6</td>\n",
              "      <td>1.4</td>\n",
              "      <td>0.2</td>\n",
              "      <td>Iris-setosa</td>\n",
              "    </tr>\n",
              "  </tbody>\n",
              "</table>\n",
              "</div>"
            ],
            "text/plain": [
              "   Id  SepalLengthCm  SepalWidthCm  PetalLengthCm  PetalWidthCm      Species\n",
              "0   1            5.1           3.5            1.4           0.2  Iris-setosa\n",
              "1   2            4.9           3.0            1.4           0.2  Iris-setosa\n",
              "2   3            4.7           3.2            1.3           0.2  Iris-setosa\n",
              "3   4            4.6           3.1            1.5           0.2  Iris-setosa\n",
              "4   5            5.0           3.6            1.4           0.2  Iris-setosa"
            ]
          },
          "execution_count": 2,
          "metadata": {},
          "output_type": "execute_result"
        }
      ],
      "source": [
        "names = ['SepalLengthCm','SepalWidthCm','PetalLengthCm','PetalWidthCm','Species']\n",
        "features = names[:-1]\n",
        "df = pd.read_csv(\"veriler/Iris.csv\")\n",
        "df.head()"
      ]
    },
    {
      "cell_type": "code",
      "execution_count": null,
      "id": "c2dd6759",
      "metadata": {
        "id": "c2dd6759",
        "outputId": "c31538fd-f10d-4945-af44-be3b79db37bd"
      },
      "outputs": [
        {
          "data": {
            "text/plain": [
              "Species\n",
              "Iris-setosa        50\n",
              "Iris-versicolor    50\n",
              "Iris-virginica     50\n",
              "dtype: int64"
            ]
          },
          "execution_count": 3,
          "metadata": {},
          "output_type": "execute_result"
        }
      ],
      "source": [
        "count_class = df.groupby(\"Species\").size()\n",
        "count_class\n"
      ]
    },
    {
      "cell_type": "code",
      "execution_count": null,
      "id": "051592c7",
      "metadata": {
        "id": "051592c7"
      },
      "outputs": [],
      "source": [
        "X = df.drop([\"Species\",\"Id\"], axis=1)\n",
        "Y = df[\"Species\"]\n",
        "x_train, x_test, y_train, y_test = train_test_split(X, Y, test_size=0.33)"
      ]
    },
    {
      "cell_type": "markdown",
      "id": "14937d35",
      "metadata": {
        "id": "14937d35"
      },
      "source": [
        "Random Forest Classifier, bir makine öğrenimi yöntemidir ve birçok karar ağacı yönteminden oluşan bir model oluşturarak bu modele veri kümesini uygular. Bu model, verilen veri kümesindeki özelliklerin sınıflandırma tahminlerinde ne kadar etkili olduğunu değerlendirir ve tahminleri yapar. Random Forest Classifier yöntemi, tek bir karar ağacı yöntemine göre daha iyi performans sağlar çünkü birçok farklı karar ağacı yöntemi bir arada kullanılır ve bu sayede tahminler daha doğru hale gelir. Bu yöntem ayrıca overfitting (aşırı uyumluluk) problemine karşı da dayanıklıdır çünkü farklı karar ağaçları kullanılarak tahminler yapılır ve bu sayede model daha genel bir görüşe sahip olur."
      ]
    },
    {
      "cell_type": "code",
      "execution_count": null,
      "id": "4a3045ad",
      "metadata": {
        "id": "4a3045ad"
      },
      "outputs": [],
      "source": [
        "rf_model = RandomForestClassifier(n_estimators=100).fit(x_train, y_train) \n",
        "#Random Forest algoritmamızı 100 adet karar ağacı kullanarak eğitiyoruz."
      ]
    },
    {
      "cell_type": "markdown",
      "id": "fd423188",
      "metadata": {
        "id": "fd423188"
      },
      "source": [
        "\"n_estimators\" parametresi, Random Forest Classifier yönteminde kullanılan karar ağaçlarının sayısını belirtir. Bu parametre, modelin tahminlerini yaparken kullanılacak olan karar ağaçlarının sayısını belirtir. Örneğin, \"n_estimators=100\" ifadesi ile Random Forest Classifier yönteminde 100 adet karar ağacı kullanılacağı anlamına gelir. Bu parametre, modelin tahminlerinin doğruluğunu etkiler çünkü daha fazla karar ağacı kullanılırsa tahminler daha doğru hale gelebilir ancak bu aynı zamanda modelin hesaplama gücünü ve çalışma hızını da etkiler. Bu nedenle, \"n_estimators\" parametresini doğru bir şekilde ayarlamak önemlidir."
      ]
    },
    {
      "cell_type": "markdown",
      "id": "3c1bf247",
      "metadata": {
        "id": "3c1bf247"
      },
      "source": [
        "Algoritmamızın doğruluğunu ölçüyoruz."
      ]
    },
    {
      "cell_type": "code",
      "execution_count": null,
      "id": "f9108b35",
      "metadata": {
        "id": "f9108b35",
        "outputId": "464fe72f-986d-4b29-9e10-f856e0dff1ea"
      },
      "outputs": [
        {
          "name": "stdout",
          "output_type": "stream",
          "text": [
            "Precisión:  98.0 %\n"
          ]
        }
      ],
      "source": [
        "y_predicted = rf_model.predict(x_test)\n",
        "accuracy = accuracy_score(y_test, y_predicted)\n",
        "print(\"Precisión: \",  accuracy*100, \"%\")"
      ]
    },
    {
      "cell_type": "markdown",
      "id": "26c4090b",
      "metadata": {
        "id": "26c4090b"
      },
      "source": [
        "Random forest modelini kullanarak bir Shap explainer nesnesi oluşturur.Daha sonra, shap. TreeExplainer fonksiyonu kullanılarak bir Shap explainer nesnesi oluşturulur. Bu nesne, Random Forest modelinin nasıl karar verdiğini anlamak için kullanılabilir."
      ]
    },
    {
      "cell_type": "code",
      "execution_count": null,
      "id": "7e6c48c9",
      "metadata": {
        "id": "7e6c48c9"
      },
      "outputs": [],
      "source": [
        "explainer = shap.TreeExplainer(rf_model)"
      ]
    },
    {
      "cell_type": "markdown",
      "id": "26641912",
      "metadata": {
        "id": "26641912"
      },
      "source": [
        "Test veri setindeki ilk satırı ve bu satırdaki beklenen sınıfı ekrana yazdırılır.                                   \n",
        "Aynı zamanda, seçilen satırdaki beklenen sınıf da y_test veri setinden alınarak yazdırılır."
      ]
    },
    {
      "cell_type": "code",
      "execution_count": null,
      "id": "36857362",
      "metadata": {
        "id": "36857362",
        "outputId": "8ba0a945-bda3-4ee0-aeba-12d4d05a351f"
      },
      "outputs": [
        {
          "name": "stdout",
          "output_type": "stream",
          "text": [
            "SepalLengthCm    5.7\n",
            "SepalWidthCm     4.4\n",
            "PetalLengthCm    1.5\n",
            "PetalWidthCm     0.4\n",
            "Name: 15, dtype: float64\n",
            "Beklenen Değer:  Iris-setosa\n"
          ]
        }
      ],
      "source": [
        "observation = x_test.iloc[0]\n",
        "print(x_test.iloc[0])\n",
        "print(\"Beklenen Değer: \", y_test.iloc[0])"
      ]
    },
    {
      "cell_type": "code",
      "execution_count": null,
      "id": "657a3c84",
      "metadata": {
        "id": "657a3c84"
      },
      "outputs": [],
      "source": [
        "#shap.initjs()"
      ]
    },
    {
      "cell_type": "markdown",
      "id": "8dfaff23",
      "metadata": {
        "id": "8dfaff23"
      },
      "source": [
        "SHAP (SHapley Additive exPlanation) değerleri, bir veri noktasının tahmini etkileyen özelliklerin ağırlık değerleridir. \n",
        "\n",
        "shap_values() fonksiyonu, verilen veri noktası için SHAP değerlerini hesaplar. SHAP (SHapley Additive exPlanation) değerleri, verilen veri noktasının tahmini etkileyen özelliklerin ağırlık değerlerini gösterir. Bu ağırlık değerleri, veri noktasının tahminine katkıda bulunan özelliklerin etkisini gösterir ve bu etkiyi grafik üzerinde gösterir.\n",
        "\n",
        "force_plot() fonksiyonu ise, verilen veri noktası için hesaplanan SHAP değerlerini grafik üzerinde gösterir. Bu grafikte, özelliklerin ağırlık değerleri sıfır çizgisi üzerinde pozitif, altında negatif olarak gösterilir. Bu ağırlık değerlerinin yüksekliği, özelliklerin tahmine etkisinin ne kadar büyük olduğunu gösterir. Özelliklerin değerlerinin ortalama değerden ne kadar uzak olduğu ise, özelliklerin etkisini gösterir.\n",
        "\n",
        "Böylece, shap_values() ve force_plot() fonksiyonları kullanılarak, verilen veri noktası için modelin tahmin yapma sürecini anlamaya yardımcı olan SHAP değerleri hesaplanır ve bu değerler grafik üzerinde gösterilir."
      ]
    },
    {
      "cell_type": "code",
      "execution_count": null,
      "id": "30876754",
      "metadata": {
        "scrolled": true,
        "id": "30876754",
        "outputId": "5f0f4ce7-513f-44c3-ad3e-b451438c9de9"
      },
      "outputs": [
        {
          "data": {
            "text/html": [
              "\n",
              "<div id='iWOS2D3AKJSLU6TIDF07M'>\n",
              "<div style='color: #900; text-align: center;'>\n",
              "  <b>Visualization omitted, Javascript library not loaded!</b><br>\n",
              "  Have you run `initjs()` in this notebook? If this notebook was from another\n",
              "  user you must also trust this notebook (File -> Trust notebook). If you are viewing\n",
              "  this notebook on github the Javascript has been stripped for security. If you are using\n",
              "  JupyterLab this error is because a JupyterLab extension has not yet been written.\n",
              "</div></div>\n",
              " <script>\n",
              "   if (window.SHAP) SHAP.ReactDom.render(\n",
              "    SHAP.React.createElement(SHAP.AdditiveForceVisualizer, {\"outNames\": [\"f(x)\"], \"baseValue\": 0.3156, \"outValue\": 0.9899999999999998, \"link\": \"identity\", \"featureNames\": [\"SepalLengthCm\", \"SepalWidthCm\", \"PetalLengthCm\", \"PetalWidthCm\"], \"features\": {\"0\": {\"effect\": -0.027965095878478542, \"value\": 5.7}, \"1\": {\"effect\": 0.02783986617186214, \"value\": 4.4}, \"2\": {\"effect\": 0.33572090971371954, \"value\": 1.5}, \"3\": {\"effect\": 0.3388043199928966, \"value\": 0.4}}, \"plot_cmap\": \"RdBu\", \"labelMargin\": 20}),\n",
              "    document.getElementById('iWOS2D3AKJSLU6TIDF07M')\n",
              "  );\n",
              "</script>"
            ],
            "text/plain": [
              "<shap.plots._force.AdditiveForceVisualizer at 0x1f046737070>"
            ]
          },
          "execution_count": 33,
          "metadata": {},
          "output_type": "execute_result"
        }
      ],
      "source": [
        "shap_values = explainer.shap_values(observation)\n",
        "shap.force_plot(explainer.expected_value[0], shap_values[0], features=observation)\n"
      ]
    },
    {
      "cell_type": "markdown",
      "id": "c2335c91",
      "metadata": {
        "id": "c2335c91"
      },
      "source": [
        "Shap explainer kullanarak bir eğitim veri setindeki tüm örnekler için modelin nasıl karar verdiğini açıklar."
      ]
    },
    {
      "cell_type": "code",
      "execution_count": null,
      "id": "361b27aa",
      "metadata": {
        "id": "361b27aa",
        "outputId": "17bdd951-ae25-4473-ac5e-c6de33d37c82"
      },
      "outputs": [
        {
          "data": {
            "text/html": [
              "\n",
              "<div id='iEM6C3BEZFDCNKKL4K7FZ'>\n",
              "<div style='color: #900; text-align: center;'>\n",
              "  <b>Visualization omitted, Javascript library not loaded!</b><br>\n",
              "  Have you run `initjs()` in this notebook? If this notebook was from another\n",
              "  user you must also trust this notebook (File -> Trust notebook). If you are viewing\n",
              "  this notebook on github the Javascript has been stripped for security. If you are using\n",
              "  JupyterLab this error is because a JupyterLab extension has not yet been written.\n",
              "</div></div>\n",
              " <script>\n",
              "   if (window.SHAP) SHAP.ReactDom.render(\n",
              "    SHAP.React.createElement(SHAP.AdditiveForceArrayVisualizer, {\"outNames\": [\"f(x)\"], \"baseValue\": 0.3156, \"link\": \"identity\", \"featureNames\": [\"SepalLengthCm\", \"SepalWidthCm\", \"PetalLengthCm\", \"PetalWidthCm\"], \"explanations\": [{\"outValue\": 0.9999999999999999, \"simIndex\": 88.0, \"features\": {\"0\": {\"effect\": 0.08171081197100771, \"value\": 5.0}, \"1\": {\"effect\": 0.00341988930974057, \"value\": 3.3}, \"2\": {\"effect\": 0.28991494714820265, \"value\": 1.4}, \"3\": {\"effect\": 0.30935435157104896, \"value\": 0.2}}}, {\"outValue\": 1.0, \"simIndex\": 73.0, \"features\": {\"0\": {\"effect\": 0.08116081197100772, \"value\": 4.4}, \"1\": {\"effect\": -0.003315028643927386, \"value\": 3.0}, \"2\": {\"effect\": 0.2892961971482027, \"value\": 1.3}, \"3\": {\"effect\": 0.317258019524717, \"value\": 0.2}}}, {\"outValue\": 0.0, \"simIndex\": 43.0, \"features\": {\"0\": {\"effect\": -0.03732277465087235, \"value\": 5.8}, \"1\": {\"effect\": -0.0033979630470154665, \"value\": 2.7}, \"2\": {\"effect\": -0.1296446957944936, \"value\": 5.1}, \"3\": {\"effect\": -0.14523456650761862, \"value\": 1.9}}}, {\"outValue\": 0.0, \"simIndex\": 54.0, \"features\": {\"0\": {\"effect\": -0.0400303280170464, \"value\": 7.6}, \"1\": {\"effect\": -0.003264629713682133, \"value\": 3.0}, \"2\": {\"effect\": -0.12721333290451, \"value\": 6.6}, \"3\": {\"effect\": -0.14509170936476148, \"value\": 2.1}}}, {\"outValue\": 0.9899999999999998, \"simIndex\": 100.0, \"features\": {\"0\": {\"effect\": -0.027965095878478542, \"value\": 5.7}, \"1\": {\"effect\": 0.02783986617186214, \"value\": 3.8}, \"2\": {\"effect\": 0.33572090971371954, \"value\": 1.7}, \"3\": {\"effect\": 0.3388043199928966, \"value\": 0.3}}}, {\"outValue\": 0.0, \"simIndex\": 47.0, \"features\": {\"0\": {\"effect\": -0.039433185159903544, \"value\": 7.7}, \"1\": {\"effect\": -0.004458915427967848, \"value\": 2.6}, \"2\": {\"effect\": -0.12721333290451, \"value\": 6.9}, \"3\": {\"effect\": -0.14449456650761863, \"value\": 2.3}}}, {\"outValue\": 0.0, \"simIndex\": 34.0, \"features\": {\"0\": {\"effect\": -0.037141648628722365, \"value\": 6.1}, \"1\": {\"effect\": -0.009014514885071542, \"value\": 2.8}, \"2\": {\"effect\": -0.11987348744701555, \"value\": 4.0}, \"3\": {\"effect\": -0.1495703490391905, \"value\": 1.3}}}, {\"outValue\": 0.9999999999999999, \"simIndex\": 94.0, \"features\": {\"0\": {\"effect\": 0.06637483313502884, \"value\": 5.4}, \"1\": {\"effect\": 0.00816988930974057, \"value\": 3.4}, \"2\": {\"effect\": 0.2959313492646048, \"value\": 1.7}, \"3\": {\"effect\": 0.31392392829062565, \"value\": 0.2}}}, {\"outValue\": 1.0, \"simIndex\": 72.0, \"features\": {\"0\": {\"effect\": 0.08116081197100772, \"value\": 4.4}, \"1\": {\"effect\": -0.003315028643927386, \"value\": 2.9}, \"2\": {\"effect\": 0.2892961971482027, \"value\": 1.4}, \"3\": {\"effect\": 0.317258019524717, \"value\": 0.2}}}, {\"outValue\": 0.0, \"simIndex\": 11.0, \"features\": {\"0\": {\"effect\": -0.04069461373133212, \"value\": 6.4}, \"1\": {\"effect\": 0.00253308585903344, \"value\": 3.1}, \"2\": {\"effect\": -0.13000083290451, \"value\": 5.5}, \"3\": {\"effect\": -0.1474376392231913, \"value\": 1.8}}}, {\"outValue\": 0.009999999999999898, \"simIndex\": 68.0, \"features\": {\"0\": {\"effect\": -0.04117070409223185, \"value\": 6.9}, \"1\": {\"effect\": 0.004795145668339012, \"value\": 3.1}, \"2\": {\"effect\": -0.1371464019570087, \"value\": 4.9}, \"3\": {\"effect\": -0.13207803961909853, \"value\": 1.5}}}, {\"outValue\": 0.0, \"simIndex\": 24.0, \"features\": {\"0\": {\"effect\": -0.03976110675680118, \"value\": 6.4}, \"1\": {\"effect\": -0.009014514885071542, \"value\": 2.9}, \"2\": {\"effect\": -0.11775402931893675, \"value\": 4.3}, \"3\": {\"effect\": -0.1490703490391905, \"value\": 1.3}}}, {\"outValue\": 0.0, \"simIndex\": 12.0, \"features\": {\"0\": {\"effect\": -0.04069461373133212, \"value\": 6.3}, \"1\": {\"effect\": 0.00253308585903344, \"value\": 3.3}, \"2\": {\"effect\": -0.13000083290451, \"value\": 6.0}, \"3\": {\"effect\": -0.1474376392231913, \"value\": 2.5}}}, {\"outValue\": 0.0, \"simIndex\": 50.0, \"features\": {\"0\": {\"effect\": -0.03976366135037974, \"value\": 6.4}, \"1\": {\"effect\": -0.0033979630470154665, \"value\": 2.7}, \"2\": {\"effect\": -0.12734666623784333, \"value\": 5.3}, \"3\": {\"effect\": -0.14509170936476148, \"value\": 1.9}}}, {\"outValue\": 0.0, \"simIndex\": 20.0, \"features\": {\"0\": {\"effect\": -0.04397783910491285, \"value\": 5.7}, \"1\": {\"effect\": -0.01079213393269059, \"value\": 2.6}, \"2\": {\"effect\": -0.11987348744701555, \"value\": 3.5}, \"3\": {\"effect\": -0.14095653951538104, \"value\": 1.0}}}, {\"outValue\": 0.0, \"simIndex\": 33.0, \"features\": {\"0\": {\"effect\": -0.037141648628722365, \"value\": 5.7}, \"1\": {\"effect\": -0.009014514885071542, \"value\": 2.8}, \"2\": {\"effect\": -0.11987348744701555, \"value\": 4.1}, \"3\": {\"effect\": -0.1495703490391905, \"value\": 1.3}}}, {\"outValue\": 0.039999999999999925, \"simIndex\": 1.0, \"features\": {\"0\": {\"effect\": 0.05824509824526821, \"value\": 5.4}, \"1\": {\"effect\": -0.009966394215495706, \"value\": 3.0}, \"2\": {\"effect\": -0.13654136898936342, \"value\": 4.5}, \"3\": {\"effect\": -0.18733733504040917, \"value\": 1.5}}}, {\"outValue\": 0.9999999999999999, \"simIndex\": 98.0, \"features\": {\"0\": {\"effect\": 0.007039300931985548, \"value\": 5.5}, \"1\": {\"effect\": 0.027983112239131976, \"value\": 4.2}, \"2\": {\"effect\": 0.31731519842872485, \"value\": 1.4}, \"3\": {\"effect\": 0.33206238840015745, \"value\": 0.2}}}, {\"outValue\": 0.0, \"simIndex\": 16.0, \"features\": {\"0\": {\"effect\": -0.04048211373133211, \"value\": 7.9}, \"1\": {\"effect\": 0.01064558585903344, \"value\": 3.8}, \"2\": {\"effect\": -0.13299458290451002, \"value\": 6.4}, \"3\": {\"effect\": -0.15276888922319132, \"value\": 2.0}}}, {\"outValue\": 0.0, \"simIndex\": 32.0, \"features\": {\"0\": {\"effect\": -0.037141648628722365, \"value\": 6.1}, \"1\": {\"effect\": -0.009014514885071542, \"value\": 2.9}, \"2\": {\"effect\": -0.11987348744701555, \"value\": 4.7}, \"3\": {\"effect\": -0.1495703490391905, \"value\": 1.4}}}, {\"outValue\": 0.0, \"simIndex\": 10.0, \"features\": {\"0\": {\"effect\": -0.04096128039799878, \"value\": 6.7}, \"1\": {\"effect\": 0.0026664191923667733, \"value\": 3.3}, \"2\": {\"effect\": -0.1298674995711767, \"value\": 5.7}, \"3\": {\"effect\": -0.1474376392231913, \"value\": 2.1}}}, {\"outValue\": 0.9999999999999999, \"simIndex\": 89.0, \"features\": {\"0\": {\"effect\": 0.08171081197100771, \"value\": 4.9}, \"1\": {\"effect\": 0.00341988930974057, \"value\": 3.1}, \"2\": {\"effect\": 0.28991494714820265, \"value\": 1.5}, \"3\": {\"effect\": 0.30935435157104896, \"value\": 0.1}}}, {\"outValue\": 0.0, \"simIndex\": 21.0, \"features\": {\"0\": {\"effect\": -0.04401777067871539, \"value\": 6.0}, \"1\": {\"effect\": -0.010998732173159798, \"value\": 2.2}, \"2\": {\"effect\": -0.11955173769139482, \"value\": 4.0}, \"3\": {\"effect\": -0.14103175945673, \"value\": 1.0}}}, {\"outValue\": 0.9899999999999999, \"simIndex\": 69.0, \"features\": {\"0\": {\"effect\": 0.07993501110520686, \"value\": 4.5}, \"1\": {\"effect\": -0.010865591414490158, \"value\": 2.3}, \"2\": {\"effect\": 0.2886446819966876, \"value\": 1.3}, \"3\": {\"effect\": 0.3166858983125957, \"value\": 0.3}}}, {\"outValue\": 0.0, \"simIndex\": 17.0, \"features\": {\"0\": {\"effect\": -0.04048211373133211, \"value\": 7.2}, \"1\": {\"effect\": 0.01064558585903344, \"value\": 3.6}, \"2\": {\"effect\": -0.13299458290451002, \"value\": 6.1}, \"3\": {\"effect\": -0.15276888922319132, \"value\": 2.5}}}, {\"outValue\": 0.0, \"simIndex\": 26.0, \"features\": {\"0\": {\"effect\": -0.04021824961394404, \"value\": 6.6}, \"1\": {\"effect\": -0.008500229170785826, \"value\": 2.9}, \"2\": {\"effect\": -0.11781117217607961, \"value\": 4.6}, \"3\": {\"effect\": -0.1490703490391905, \"value\": 1.3}}}, {\"outValue\": 0.0, \"simIndex\": 64.0, \"features\": {\"0\": {\"effect\": -0.0377283107852968, \"value\": 6.0}, \"1\": {\"effect\": -0.006279463843770501, \"value\": 2.7}, \"2\": {\"effect\": -0.13755907797830536, \"value\": 5.1}, \"3\": {\"effect\": -0.1340331473926273, \"value\": 1.6}}}, {\"outValue\": 0.0, \"simIndex\": 9.0, \"features\": {\"0\": {\"effect\": -0.04096128039799878, \"value\": 6.5}, \"1\": {\"effect\": 0.0026664191923667733, \"value\": 3.2}, \"2\": {\"effect\": -0.1298674995711767, \"value\": 5.1}, \"3\": {\"effect\": -0.1474376392231913, \"value\": 2.0}}}, {\"outValue\": 0.9999999999999999, \"simIndex\": 77.0, \"features\": {\"0\": {\"effect\": 0.07111081197100769, \"value\": 5.2}, \"1\": {\"effect\": 0.01246988930974057, \"value\": 4.1}, \"2\": {\"effect\": 0.2906149471482027, \"value\": 1.5}, \"3\": {\"effect\": 0.310204351571049, \"value\": 0.1}}}, {\"outValue\": 0.0, \"simIndex\": 13.0, \"features\": {\"0\": {\"effect\": -0.04069461373133212, \"value\": 6.4}, \"1\": {\"effect\": 0.00253308585903344, \"value\": 3.2}, \"2\": {\"effect\": -0.13000083290451, \"value\": 5.3}, \"3\": {\"effect\": -0.1474376392231913, \"value\": 2.3}}}, {\"outValue\": 0.020000000000000018, \"simIndex\": 6.0, \"features\": {\"0\": {\"effect\": -0.040747235905430335, \"value\": 6.3}, \"1\": {\"effect\": 0.0066458900815834256, \"value\": 3.3}, \"2\": {\"effect\": -0.11528187022802765, \"value\": 4.7}, \"3\": {\"effect\": -0.14621678394812543, \"value\": 1.6}}}, {\"outValue\": 0.9999999999999999, \"simIndex\": 78.0, \"features\": {\"0\": {\"effect\": 0.07111081197100769, \"value\": 5.1}, \"1\": {\"effect\": 0.01246988930974057, \"value\": 3.8}, \"2\": {\"effect\": 0.2906149471482027, \"value\": 1.9}, \"3\": {\"effect\": 0.310204351571049, \"value\": 0.4}}}, {\"outValue\": 0.0, \"simIndex\": 55.0, \"features\": {\"0\": {\"effect\": -0.0400303280170464, \"value\": 6.8}, \"1\": {\"effect\": -0.003264629713682133, \"value\": 3.0}, \"2\": {\"effect\": -0.12721333290451, \"value\": 5.5}, \"3\": {\"effect\": -0.14509170936476148, \"value\": 2.1}}}, {\"outValue\": 0.020000000000000018, \"simIndex\": 7.0, \"features\": {\"0\": {\"effect\": -0.04069205913775357, \"value\": 6.4}, \"1\": {\"effect\": 0.006656117354310698, \"value\": 3.2}, \"2\": {\"effect\": -0.11566861265227008, \"value\": 4.5}, \"3\": {\"effect\": -0.14589544556428705, \"value\": 1.5}}}, {\"outValue\": 0.9999999999999999, \"simIndex\": 83.0, \"features\": {\"0\": {\"effect\": 0.07611081197100772, \"value\": 4.8}, \"1\": {\"effect\": 0.00816988930974057, \"value\": 3.4}, \"2\": {\"effect\": 0.28991494714820265, \"value\": 1.6}, \"3\": {\"effect\": 0.310204351571049, \"value\": 0.2}}}, {\"outValue\": 0.9899999999999998, \"simIndex\": 99.0, \"features\": {\"0\": {\"effect\": -0.027965095878478542, \"value\": 5.8}, \"1\": {\"effect\": 0.02783986617186214, \"value\": 4.0}, \"2\": {\"effect\": 0.33572090971371954, \"value\": 1.2}, \"3\": {\"effect\": 0.3388043199928966, \"value\": 0.2}}}, {\"outValue\": 0.0, \"simIndex\": 23.0, \"features\": {\"0\": {\"effect\": -0.039296821042515466, \"value\": 6.2}, \"1\": {\"effect\": -0.009014514885071542, \"value\": 2.9}, \"2\": {\"effect\": -0.11771831503322246, \"value\": 4.3}, \"3\": {\"effect\": -0.1495703490391905, \"value\": 1.3}}}, {\"outValue\": 0.0, \"simIndex\": 56.0, \"features\": {\"0\": {\"effect\": -0.0400303280170464, \"value\": 6.7}, \"1\": {\"effect\": -0.003264629713682133, \"value\": 3.0}, \"2\": {\"effect\": -0.12721333290451, \"value\": 5.2}, \"3\": {\"effect\": -0.14509170936476148, \"value\": 2.3}}}, {\"outValue\": 0.0, \"simIndex\": 35.0, \"features\": {\"0\": {\"effect\": -0.037141648628722365, \"value\": 6.1}, \"1\": {\"effect\": -0.009014514885071542, \"value\": 3.0}, \"2\": {\"effect\": -0.11987348744701555, \"value\": 4.6}, \"3\": {\"effect\": -0.1495703490391905, \"value\": 1.4}}}, {\"outValue\": 0.0, \"simIndex\": 31.0, \"features\": {\"0\": {\"effect\": -0.037141648628722365, \"value\": 5.7}, \"1\": {\"effect\": -0.009014514885071542, \"value\": 2.8}, \"2\": {\"effect\": -0.11987348744701555, \"value\": 4.5}, \"3\": {\"effect\": -0.1495703490391905, \"value\": 1.3}}}, {\"outValue\": 0.0, \"simIndex\": 49.0, \"features\": {\"0\": {\"effect\": -0.03976366135037974, \"value\": 6.4}, \"1\": {\"effect\": -0.0033979630470154665, \"value\": 2.8}, \"2\": {\"effect\": -0.12734666623784333, \"value\": 5.6}, \"3\": {\"effect\": -0.14509170936476148, \"value\": 2.2}}}, {\"outValue\": 0.9999999999999999, \"simIndex\": 82.0, \"features\": {\"0\": {\"effect\": 0.07611081197100772, \"value\": 5.2}, \"1\": {\"effect\": 0.00816988930974057, \"value\": 3.4}, \"2\": {\"effect\": 0.28991494714820265, \"value\": 1.4}, \"3\": {\"effect\": 0.310204351571049, \"value\": 0.2}}}, {\"outValue\": 0.0, \"simIndex\": 53.0, \"features\": {\"0\": {\"effect\": -0.0400303280170464, \"value\": 6.5}, \"1\": {\"effect\": -0.003264629713682133, \"value\": 3.0}, \"2\": {\"effect\": -0.12721333290451, \"value\": 5.5}, \"3\": {\"effect\": -0.14509170936476148, \"value\": 1.8}}}, {\"outValue\": 0.9999999999999999, \"simIndex\": 79.0, \"features\": {\"0\": {\"effect\": 0.07111081197100769, \"value\": 4.6}, \"1\": {\"effect\": 0.01246988930974057, \"value\": 3.6}, \"2\": {\"effect\": 0.2906149471482027, \"value\": 1.0}, \"3\": {\"effect\": 0.310204351571049, \"value\": 0.2}}}, {\"outValue\": 1.0, \"simIndex\": 71.0, \"features\": {\"0\": {\"effect\": 0.08116081197100772, \"value\": 4.8}, \"1\": {\"effect\": -0.003315028643927386, \"value\": 3.0}, \"2\": {\"effect\": 0.2892961971482027, \"value\": 1.4}, \"3\": {\"effect\": 0.317258019524717, \"value\": 0.3}}}, {\"outValue\": 0.0, \"simIndex\": 36.0, \"features\": {\"0\": {\"effect\": -0.037141648628722365, \"value\": 5.6}, \"1\": {\"effect\": -0.009014514885071542, \"value\": 3.0}, \"2\": {\"effect\": -0.11987348744701555, \"value\": 4.5}, \"3\": {\"effect\": -0.1495703490391905, \"value\": 1.5}}}, {\"outValue\": 0.0, \"simIndex\": 65.0, \"features\": {\"0\": {\"effect\": -0.04011402071712743, \"value\": 6.3}, \"1\": {\"effect\": -0.006269236571043228, \"value\": 2.8}, \"2\": {\"effect\": -0.13564779084589756, \"value\": 5.1}, \"3\": {\"effect\": -0.1335689518659318, \"value\": 1.5}}}, {\"outValue\": 0.0, \"simIndex\": 48.0, \"features\": {\"0\": {\"effect\": -0.03976366135037974, \"value\": 6.3}, \"1\": {\"effect\": -0.0033979630470154665, \"value\": 2.9}, \"2\": {\"effect\": -0.12734666623784333, \"value\": 5.6}, \"3\": {\"effect\": -0.14509170936476148, \"value\": 1.8}}}, {\"outValue\": 0.0, \"simIndex\": 41.0, \"features\": {\"0\": {\"effect\": -0.0392093408644803, \"value\": 6.2}, \"1\": {\"effect\": -0.0041119913610437805, \"value\": 2.8}, \"2\": {\"effect\": -0.121177553541612, \"value\": 4.8}, \"3\": {\"effect\": -0.15110111423286393, \"value\": 1.8}}}, {\"outValue\": 0.0, \"simIndex\": 61.0, \"features\": {\"0\": {\"effect\": -0.040302557374085134, \"value\": 6.8}, \"1\": {\"effect\": -0.006468979170785828, \"value\": 2.8}, \"2\": {\"effect\": -0.1293929638639519, \"value\": 4.8}, \"3\": {\"effect\": -0.13943549959117713, \"value\": 1.4}}}, {\"outValue\": 0.0, \"simIndex\": 30.0, \"features\": {\"0\": {\"effect\": -0.037141648628722365, \"value\": 5.6}, \"1\": {\"effect\": -0.009014514885071542, \"value\": 2.7}, \"2\": {\"effect\": -0.11987348744701555, \"value\": 4.2}, \"3\": {\"effect\": -0.1495703490391905, \"value\": 1.3}}}, {\"outValue\": 0.0, \"simIndex\": 37.0, \"features\": {\"0\": {\"effect\": -0.037141648628722365, \"value\": 5.9}, \"1\": {\"effect\": -0.009014514885071542, \"value\": 3.0}, \"2\": {\"effect\": -0.11987348744701555, \"value\": 4.2}, \"3\": {\"effect\": -0.1495703490391905, \"value\": 1.5}}}, {\"outValue\": 0.9999999999999999, \"simIndex\": 93.0, \"features\": {\"0\": {\"effect\": 0.08766081197100772, \"value\": 5.0}, \"1\": {\"effect\": 0.011305482530079554, \"value\": 3.5}, \"2\": {\"effect\": 0.2877649471482027, \"value\": 1.6}, \"3\": {\"effect\": 0.29766875835070994, \"value\": 0.6}}}, {\"outValue\": 0.9999999999999999, \"simIndex\": 81.0, \"features\": {\"0\": {\"effect\": 0.07611081197100772, \"value\": 4.8}, \"1\": {\"effect\": 0.00816988930974057, \"value\": 3.4}, \"2\": {\"effect\": 0.28991494714820265, \"value\": 1.9}, \"3\": {\"effect\": 0.310204351571049, \"value\": 0.2}}}, {\"outValue\": 0.0, \"simIndex\": 8.0, \"features\": {\"0\": {\"effect\": -0.04096128039799878, \"value\": 6.9}, \"1\": {\"effect\": 0.0026664191923667733, \"value\": 3.1}, \"2\": {\"effect\": -0.1298674995711767, \"value\": 5.1}, \"3\": {\"effect\": -0.1474376392231913, \"value\": 2.3}}}, {\"outValue\": 0.9999999999999999, \"simIndex\": 90.0, \"features\": {\"0\": {\"effect\": 0.08171081197100771, \"value\": 4.9}, \"1\": {\"effect\": 0.00341988930974057, \"value\": 3.1}, \"2\": {\"effect\": 0.28991494714820265, \"value\": 1.5}, \"3\": {\"effect\": 0.30935435157104896, \"value\": 0.1}}}, {\"outValue\": 0.9999999999999999, \"simIndex\": 87.0, \"features\": {\"0\": {\"effect\": 0.08171081197100771, \"value\": 4.6}, \"1\": {\"effect\": 0.00341988930974057, \"value\": 3.2}, \"2\": {\"effect\": 0.28991494714820265, \"value\": 1.4}, \"3\": {\"effect\": 0.30935435157104896, \"value\": 0.2}}}, {\"outValue\": 0.0, \"simIndex\": 2.0, \"features\": {\"0\": {\"effect\": -0.011158702852728766, \"value\": 5.5}, \"1\": {\"effect\": -0.011766441096004545, \"value\": 2.3}, \"2\": {\"effect\": -0.1284432371172106, \"value\": 4.0}, \"3\": {\"effect\": -0.16423161893405605, \"value\": 1.3}}}, {\"outValue\": 0.0, \"simIndex\": 29.0, \"features\": {\"0\": {\"effect\": -0.037141648628722365, \"value\": 5.7}, \"1\": {\"effect\": -0.009014514885071542, \"value\": 2.9}, \"2\": {\"effect\": -0.11987348744701555, \"value\": 4.2}, \"3\": {\"effect\": -0.1495703490391905, \"value\": 1.3}}}, {\"outValue\": 1.0, \"simIndex\": 74.0, \"features\": {\"0\": {\"effect\": 0.08116081197100772, \"value\": 4.8}, \"1\": {\"effect\": -0.003315028643927386, \"value\": 3.0}, \"2\": {\"effect\": 0.2892961971482027, \"value\": 1.4}, \"3\": {\"effect\": 0.317258019524717, \"value\": 0.1}}}, {\"outValue\": 0.0, \"simIndex\": 67.0, \"features\": {\"0\": {\"effect\": -0.0404265699298034, \"value\": 6.7}, \"1\": {\"effect\": -0.005693139057445715, \"value\": 3.0}, \"2\": {\"effect\": -0.13443301145974393, \"value\": 5.0}, \"3\": {\"effect\": -0.13504727955300697, \"value\": 1.7}}}, {\"outValue\": 0.9799999999999998, \"simIndex\": 97.0, \"features\": {\"0\": {\"effect\": 0.0032424259319855466, \"value\": 5.5}, \"1\": {\"effect\": 0.014886237239131978, \"value\": 3.5}, \"2\": {\"effect\": 0.3142089484287248, \"value\": 1.3}, \"3\": {\"effect\": 0.33206238840015745, \"value\": 0.2}}}, {\"outValue\": 0.9999999999999999, \"simIndex\": 96.0, \"features\": {\"0\": {\"effect\": 0.06137483313502887, \"value\": 5.4}, \"1\": {\"effect\": 0.01246988930974057, \"value\": 3.7}, \"2\": {\"effect\": 0.29663134926460477, \"value\": 1.5}, \"3\": {\"effect\": 0.31392392829062565, \"value\": 0.2}}}, {\"outValue\": 0.0, \"simIndex\": 22.0, \"features\": {\"0\": {\"effect\": -0.03920389547346086, \"value\": 6.3}, \"1\": {\"effect\": -0.010415398839826465, \"value\": 2.3}, \"2\": {\"effect\": -0.11743227956331602, \"value\": 4.4}, \"3\": {\"effect\": -0.14854842612339664, \"value\": 1.3}}}, {\"outValue\": 0.0, \"simIndex\": 4.0, \"features\": {\"0\": {\"effect\": -0.01122385436788028, \"value\": 5.5}, \"1\": {\"effect\": -0.011664925944489393, \"value\": 2.4}, \"2\": {\"effect\": -0.1285083886323621, \"value\": 3.8}, \"3\": {\"effect\": -0.1642028310552682, \"value\": 1.1}}}, {\"outValue\": 0.0, \"simIndex\": 60.0, \"features\": {\"0\": {\"effect\": -0.039622725677865116, \"value\": 6.3}, \"1\": {\"effect\": -0.0033979630470154665, \"value\": 2.7}, \"2\": {\"effect\": -0.12632444401562112, \"value\": 4.9}, \"3\": {\"effect\": -0.14625486725949832, \"value\": 1.8}}}, {\"outValue\": 0.0, \"simIndex\": 46.0, \"features\": {\"0\": {\"effect\": -0.039433185159903544, \"value\": 6.7}, \"1\": {\"effect\": -0.004458915427967848, \"value\": 2.5}, \"2\": {\"effect\": -0.12721333290451, \"value\": 5.8}, \"3\": {\"effect\": -0.14449456650761863, \"value\": 1.8}}}, {\"outValue\": 0.9999999999999999, \"simIndex\": 84.0, \"features\": {\"0\": {\"effect\": 0.07611081197100772, \"value\": 5.0}, \"1\": {\"effect\": 0.00816988930974057, \"value\": 3.5}, \"2\": {\"effect\": 0.28991494714820265, \"value\": 1.3}, \"3\": {\"effect\": 0.310204351571049, \"value\": 0.3}}}, {\"outValue\": 0.0, \"simIndex\": 66.0, \"features\": {\"0\": {\"effect\": -0.04043586415147086, \"value\": 7.2}, \"1\": {\"effect\": -0.006146130510437168, \"value\": 3.0}, \"2\": {\"effect\": -0.13512771508832178, \"value\": 5.8}, \"3\": {\"effect\": -0.13389029024977017, \"value\": 1.6}}}, {\"outValue\": 1.0, \"simIndex\": 70.0, \"features\": {\"0\": {\"effect\": 0.08116081197100772, \"value\": 5.0}, \"1\": {\"effect\": -0.003315028643927386, \"value\": 3.0}, \"2\": {\"effect\": 0.2892961971482027, \"value\": 1.6}, \"3\": {\"effect\": 0.317258019524717, \"value\": 0.2}}}, {\"outValue\": 0.0, \"simIndex\": 57.0, \"features\": {\"0\": {\"effect\": -0.0400303280170464, \"value\": 7.1}, \"1\": {\"effect\": -0.003264629713682133, \"value\": 3.0}, \"2\": {\"effect\": -0.12721333290451, \"value\": 5.9}, \"3\": {\"effect\": -0.14509170936476148, \"value\": 2.1}}}, {\"outValue\": 0.9999999999999999, \"simIndex\": 76.0, \"features\": {\"0\": {\"effect\": 0.07111081197100769, \"value\": 5.1}, \"1\": {\"effect\": 0.01246988930974057, \"value\": 3.8}, \"2\": {\"effect\": 0.2906149471482027, \"value\": 1.5}, \"3\": {\"effect\": 0.310204351571049, \"value\": 0.3}}}, {\"outValue\": 0.0, \"simIndex\": 3.0, \"features\": {\"0\": {\"effect\": -0.01122385436788028, \"value\": 5.5}, \"1\": {\"effect\": -0.011664925944489393, \"value\": 2.6}, \"2\": {\"effect\": -0.1285083886323621, \"value\": 4.4}, \"3\": {\"effect\": -0.1642028310552682, \"value\": 1.2}}}, {\"outValue\": 0.9999999999999999, \"simIndex\": 91.0, \"features\": {\"0\": {\"effect\": 0.08171081197100771, \"value\": 5.1}, \"1\": {\"effect\": 0.00341988930974057, \"value\": 3.3}, \"2\": {\"effect\": 0.28991494714820265, \"value\": 1.7}, \"3\": {\"effect\": 0.30935435157104896, \"value\": 0.5}}}, {\"outValue\": 0.0, \"simIndex\": 38.0, \"features\": {\"0\": {\"effect\": -0.037141648628722365, \"value\": 5.6}, \"1\": {\"effect\": -0.009014514885071542, \"value\": 3.0}, \"2\": {\"effect\": -0.11987348744701555, \"value\": 4.1}, \"3\": {\"effect\": -0.1495703490391905, \"value\": 1.3}}}, {\"outValue\": 0.0, \"simIndex\": 40.0, \"features\": {\"0\": {\"effect\": -0.03654450577157951, \"value\": 5.6}, \"1\": {\"effect\": -0.010208800599357257, \"value\": 2.5}, \"2\": {\"effect\": -0.11987348744701555, \"value\": 3.9}, \"3\": {\"effect\": -0.14897320618204765, \"value\": 1.1}}}, {\"outValue\": 0.0, \"simIndex\": 63.0, \"features\": {\"0\": {\"effect\": -0.037038144956501935, \"value\": 6.0}, \"1\": {\"effect\": -0.007670120525798151, \"value\": 2.2}, \"2\": {\"effect\": -0.13700184842470484, \"value\": 5.0}, \"3\": {\"effect\": -0.13388988609299504, \"value\": 1.5}}}, {\"outValue\": 0.0, \"simIndex\": 52.0, \"features\": {\"0\": {\"effect\": -0.0400303280170464, \"value\": 6.5}, \"1\": {\"effect\": -0.003264629713682133, \"value\": 3.0}, \"2\": {\"effect\": -0.12721333290451, \"value\": 5.2}, \"3\": {\"effect\": -0.14509170936476148, \"value\": 2.0}}}, {\"outValue\": 0.0, \"simIndex\": 28.0, \"features\": {\"0\": {\"effect\": -0.037141648628722365, \"value\": 5.8}, \"1\": {\"effect\": -0.009014514885071542, \"value\": 2.7}, \"2\": {\"effect\": -0.11987348744701555, \"value\": 3.9}, \"3\": {\"effect\": -0.1495703490391905, \"value\": 1.2}}}, {\"outValue\": 0.0, \"simIndex\": 19.0, \"features\": {\"0\": {\"effect\": -0.04584164862872237, \"value\": 5.8}, \"1\": {\"effect\": -0.008964514885071542, \"value\": 2.7}, \"2\": {\"effect\": -0.11987348744701555, \"value\": 4.1}, \"3\": {\"effect\": -0.14092034903919057, \"value\": 1.0}}}, {\"outValue\": 0.9999999999999999, \"simIndex\": 80.0, \"features\": {\"0\": {\"effect\": 0.07611081197100772, \"value\": 5.1}, \"1\": {\"effect\": 0.00816988930974057, \"value\": 3.4}, \"2\": {\"effect\": 0.28991494714820265, \"value\": 1.5}, \"3\": {\"effect\": 0.310204351571049, \"value\": 0.2}}}, {\"outValue\": 0.0, \"simIndex\": 15.0, \"features\": {\"0\": {\"effect\": -0.03969327444561783, \"value\": 6.2}, \"1\": {\"effect\": 0.00714871085903344, \"value\": 3.4}, \"2\": {\"effect\": -0.13014369004736714, \"value\": 5.4}, \"3\": {\"effect\": -0.15291174636604846, \"value\": 2.3}}}, {\"outValue\": 0.0, \"simIndex\": 58.0, \"features\": {\"0\": {\"effect\": -0.0400303280170464, \"value\": 6.5}, \"1\": {\"effect\": -0.003264629713682133, \"value\": 3.0}, \"2\": {\"effect\": -0.12721333290451, \"value\": 5.8}, \"3\": {\"effect\": -0.14509170936476148, \"value\": 2.2}}}, {\"outValue\": 0.0, \"simIndex\": 39.0, \"features\": {\"0\": {\"effect\": -0.037141648628722365, \"value\": 6.0}, \"1\": {\"effect\": -0.009014514885071542, \"value\": 2.9}, \"2\": {\"effect\": -0.11987348744701555, \"value\": 4.5}, \"3\": {\"effect\": -0.1495703490391905, \"value\": 1.5}}}, {\"outValue\": 0.0, \"simIndex\": 5.0, \"features\": {\"0\": {\"effect\": -0.017122099981915363, \"value\": 5.5}, \"1\": {\"effect\": -0.015318434716419218, \"value\": 2.4}, \"2\": {\"effect\": -0.1285083886323621, \"value\": 3.7}, \"3\": {\"effect\": -0.15465107666930328, \"value\": 1.0}}}, {\"outValue\": 1.0, \"simIndex\": 75.0, \"features\": {\"0\": {\"effect\": 0.08116081197100772, \"value\": 4.3}, \"1\": {\"effect\": -0.003315028643927386, \"value\": 3.0}, \"2\": {\"effect\": 0.2892961971482027, \"value\": 1.1}, \"3\": {\"effect\": 0.317258019524717, \"value\": 0.1}}}, {\"outValue\": 0.0, \"simIndex\": 51.0, \"features\": {\"0\": {\"effect\": -0.0400303280170464, \"value\": 7.4}, \"1\": {\"effect\": -0.003264629713682133, \"value\": 2.8}, \"2\": {\"effect\": -0.12721333290451, \"value\": 6.1}, \"3\": {\"effect\": -0.14509170936476148, \"value\": 1.9}}}, {\"outValue\": 0.0, \"simIndex\": 25.0, \"features\": {\"0\": {\"effect\": -0.04021824961394404, \"value\": 6.6}, \"1\": {\"effect\": -0.008500229170785826, \"value\": 3.0}, \"2\": {\"effect\": -0.11781117217607961, \"value\": 4.4}, \"3\": {\"effect\": -0.1490703490391905, \"value\": 1.4}}}, {\"outValue\": 0.0, \"simIndex\": 14.0, \"features\": {\"0\": {\"effect\": -0.03798512083163958, \"value\": 5.9}, \"1\": {\"effect\": 0.0018190575450051255, \"value\": 3.2}, \"2\": {\"effect\": -0.12598689262207177, \"value\": 4.8}, \"3\": {\"effect\": -0.15344704409129378, \"value\": 1.8}}}, {\"outValue\": 0.0, \"simIndex\": 59.0, \"features\": {\"0\": {\"effect\": -0.0400303280170464, \"value\": 7.3}, \"1\": {\"effect\": -0.003264629713682133, \"value\": 2.9}, \"2\": {\"effect\": -0.12721333290451, \"value\": 6.3}, \"3\": {\"effect\": -0.14509170936476148, \"value\": 1.8}}}, {\"outValue\": 0.0, \"simIndex\": 18.0, \"features\": {\"0\": {\"effect\": -0.04048211373133211, \"value\": 7.7}, \"1\": {\"effect\": 0.01064558585903344, \"value\": 3.8}, \"2\": {\"effect\": -0.13299458290451002, \"value\": 6.7}, \"3\": {\"effect\": -0.15276888922319132, \"value\": 2.2}}}, {\"outValue\": 0.0, \"simIndex\": 45.0, \"features\": {\"0\": {\"effect\": -0.0390887407154591, \"value\": 6.3}, \"1\": {\"effect\": -0.00459224876130118, \"value\": 2.5}, \"2\": {\"effect\": -0.1267244440156211, \"value\": 5.0}, \"3\": {\"effect\": -0.1451945665076186, \"value\": 1.9}}}, {\"outValue\": 0.0, \"simIndex\": 42.0, \"features\": {\"0\": {\"effect\": -0.037054168450687194, \"value\": 6.0}, \"1\": {\"effect\": -0.0041119913610437805, \"value\": 3.0}, \"2\": {\"effect\": -0.12333272595540509, \"value\": 4.8}, \"3\": {\"effect\": -0.15110111423286393, \"value\": 1.8}}}, {\"outValue\": 0.9999999999999999, \"simIndex\": 86.0, \"features\": {\"0\": {\"effect\": 0.08171081197100771, \"value\": 4.4}, \"1\": {\"effect\": 0.00341988930974057, \"value\": 3.2}, \"2\": {\"effect\": 0.28991494714820265, \"value\": 1.3}, \"3\": {\"effect\": 0.30935435157104896, \"value\": 0.2}}}, {\"outValue\": 0.0, \"simIndex\": 62.0, \"features\": {\"0\": {\"effect\": -0.037075991160477176, \"value\": 6.1}, \"1\": {\"effect\": -0.007463522285328943, \"value\": 2.6}, \"2\": {\"effect\": -0.1379458204025478, \"value\": 5.6}, \"3\": {\"effect\": -0.13311466615164608, \"value\": 1.4}}}, {\"outValue\": 0.9999999999999999, \"simIndex\": 95.0, \"features\": {\"0\": {\"effect\": 0.06137483313502887, \"value\": 5.4}, \"1\": {\"effect\": 0.01246988930974057, \"value\": 3.9}, \"2\": {\"effect\": 0.29663134926460477, \"value\": 1.3}, \"3\": {\"effect\": 0.31392392829062565, \"value\": 0.4}}}, {\"outValue\": 0.0, \"simIndex\": 44.0, \"features\": {\"0\": {\"effect\": -0.03718183897835772, \"value\": 6.1}, \"1\": {\"effect\": -0.0033979630470154665, \"value\": 3.0}, \"2\": {\"effect\": -0.12862247357227136, \"value\": 4.9}, \"3\": {\"effect\": -0.14639772440235546, \"value\": 1.8}}}, {\"outValue\": 0.9999999999999999, \"simIndex\": 92.0, \"features\": {\"0\": {\"effect\": 0.08171081197100771, \"value\": 4.9}, \"1\": {\"effect\": 0.00341988930974057, \"value\": 3.1}, \"2\": {\"effect\": 0.28991494714820265, \"value\": 1.5}, \"3\": {\"effect\": 0.30935435157104896, \"value\": 0.1}}}, {\"outValue\": 0.9999999999999999, \"simIndex\": 85.0, \"features\": {\"0\": {\"effect\": 0.07611081197100772, \"value\": 5.1}, \"1\": {\"effect\": 0.00816988930974057, \"value\": 3.5}, \"2\": {\"effect\": 0.28991494714820265, \"value\": 1.4}, \"3\": {\"effect\": 0.310204351571049, \"value\": 0.3}}}, {\"outValue\": 0.0, \"simIndex\": 27.0, \"features\": {\"0\": {\"effect\": -0.037141648628722365, \"value\": 5.7}, \"1\": {\"effect\": -0.009014514885071542, \"value\": 3.0}, \"2\": {\"effect\": -0.11987348744701555, \"value\": 4.2}, \"3\": {\"effect\": -0.1495703490391905, \"value\": 1.2}}}], \"plot_cmap\": \"RdBu\", \"ordering_keys\": null, \"ordering_keys_time_format\": null}),\n",
              "    document.getElementById('iEM6C3BEZFDCNKKL4K7FZ')\n",
              "  );\n",
              "</script>"
            ],
            "text/plain": [
              "<shap.plots._force.AdditiveForceArrayVisualizer at 0x1f046c69a60>"
            ]
          },
          "execution_count": 22,
          "metadata": {},
          "output_type": "execute_result"
        }
      ],
      "source": [
        "all_shap_values = explainer.shap_values(x_train)\n",
        "shap.force_plot(explainer.expected_value[0], all_shap_values[0], features=x_train)"
      ]
    },
    {
      "cell_type": "markdown",
      "id": "f4948f40",
      "metadata": {
        "id": "f4948f40"
      },
      "source": [
        "### Grafikte görüldüğü gibi, 'PetalWidthCm' ve 'PetalLengthCm' özellikleri modelin tahmini en çok etkileyen özelliklerdir. Bu özelliklerin değerlerinin ortalamadan daha yüksek olması, tahmine pozitif etki yapmaktadır. Ayrıca, 'SepalLengthCm' özelliğinin değerinin ortalamadan daha düşük olması ise, tahmine negatif etki yapmaktadır. Bu şekilde, modelin tahmin yapma sürecini anlamaya yardımcı olan SHAP değerleri gösterilerek, modelin veri seti üzerindeki etkisi anlaşılır."
      ]
    },
    {
      "cell_type": "markdown",
      "id": "ba0b51dd",
      "metadata": {
        "id": "ba0b51dd"
      },
      "source": [
        "Shap explainer kullanarak bir eğitim veri setindeki tüm örnekler için modelin nasıl karar verdiğini açıklar. "
      ]
    },
    {
      "cell_type": "code",
      "execution_count": null,
      "id": "83141f53",
      "metadata": {
        "id": "83141f53",
        "outputId": "d659893a-977f-48c8-a396-7630bbb74c0c"
      },
      "outputs": [
        {
          "data": {
            "image/png": "[encoded data removed]",
            "text/plain": [
              "<Figure size 576x223.2 with 2 Axes>"
            ]
          },
          "metadata": {
            "needs_background": "light"
          },
          "output_type": "display_data"
        }
      ],
      "source": [
        "shap.summary_plot(all_shap_values[0], features=x_train, feature_names=features)\n"
      ]
    },
    {
      "cell_type": "markdown",
      "id": "f291d1d6",
      "metadata": {
        "id": "f291d1d6"
      },
      "source": [
        "Yukarıdaki kodda, shap.summary_plot() fonksiyonu ile verilen veri seti için tüm veri noktalarının SHAP değerleri üzerinden bir özet grafik oluşturulmuştur. Bu grafikte, özellikler sırasıyla yatay eksende gösterilmiştir ve her bir özellik için SHAP değerleri dikey eksende gösterilmiştir.\n",
        "\n",
        "Bu grafikte, özelliklerin SHAP değerleri sıfır çizgisi üzerinde pozitif, altında negatif olarak gösterilir. Bu ağırlık değerlerinin yüksekliği, özelliklerin tahmine etkisinin ne kadar büyük olduğunu gösterir. Özelliklerin değerlerinin ortalama değerden ne kadar uzak olduğu ise, özelliklerin etkisini gösterir.\n",
        "\n",
        "Böylece, shap.summary_plot() fonksiyonu kullanılarak, verilen veri seti için modelin tahmin yapma sürecini anlamaya yardımcı olan SHAP değerleri üzerinden özet bir grafik oluşturulur ve bu sayede modelin veri seti üzerindeki etkisi anlaşılır.\n",
        "\n",
        "#### Bu grafikte, 'PetalWidthCm' ve 'PetalLengthCm' özelliklerinin SHAP değerlerinin diğer özelliklerden daha yüksek olduğu görülmektedir. Bu da bu özelliklerin modelin tahmini en çok etkileyen özellikler olduğunu gösterir.\n"
      ]
    },
    {
      "cell_type": "code",
      "execution_count": null,
      "id": "58f97f71",
      "metadata": {
        "id": "58f97f71"
      },
      "outputs": [],
      "source": []
    }
  ],
  "metadata": {
    "kernelspec": {
      "display_name": "Python 3 (ipykernel)",
      "language": "python",
      "name": "python3"
    },
    "language_info": {
      "codemirror_mode": {
        "name": "ipython",
        "version": 3
      },
      "file_extension": ".py",
      "mimetype": "text/x-python",
      "name": "python",
      "nbconvert_exporter": "python",
      "pygments_lexer": "ipython3",
      "version": "3.9.12"
    },
    "colab": {
      "provenance": [],
      "include_colab_link": true
    }
  },
  "nbformat": 4,
  "nbformat_minor": 5
}