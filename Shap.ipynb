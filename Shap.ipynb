{
 "cells": [
  {
   "cell_type": "markdown",
   "id": "3d03bd43",
   "metadata": {},
   "source": [
    "# Shap\n",
    "Shap, bir makine öğrenimi modelinin nasıl karar verdiğini anlamak için kullanılan bir araçtır. Shap, modelin verdiği kararın nedenlerini açıklayarak, modelin nasıl işlediğini anlamaya yardımcı olur. Örneğin, bir görüntü tanıma modeli kullanarak bir resmin ne olduğunu tahmin etmeye çalıştığınızda, Shap size hangi özelliklerin resmi hangi kategoriye (örneğin, bir köpek resmi) atama kararı verdiğini gösterebilir. Böylece, modelin nasıl işlediğini anlayabilir ve modelin performansını iyileştirebilirsiniz.\n",
    "\n"
   ]
  },
  {
   "cell_type": "code",
   "execution_count": 1,
   "id": "a845cfb5",
   "metadata": {},
   "outputs": [],
   "source": [
    "# Pandas\n",
    "import pandas as pd\n",
    "\n",
    "# Some sklearn tools for preprocessing\n",
    "from sklearn.model_selection import train_test_split\n",
    "from sklearn.metrics import accuracy_score\n",
    "\n",
    "# Tree based algorithms\n",
    "from sklearn.ensemble import RandomForestClassifier\n",
    "\n",
    "# XAI\n",
    "import shap"
   ]
  },
  {
   "cell_type": "code",
   "execution_count": 2,
   "id": "7b19a568",
   "metadata": {},
   "outputs": [
    {
     "data": {
      "text/html": [
       "<div>\n",
       "<style scoped>\n",
       "    .dataframe tbody tr th:only-of-type {\n",
       "        vertical-align: middle;\n",
       "    }\n",
       "\n",
       "    .dataframe tbody tr th {\n",
       "        vertical-align: top;\n",
       "    }\n",
       "\n",
       "    .dataframe thead th {\n",
       "        text-align: right;\n",
       "    }\n",
       "</style>\n",
       "<table border=\"1\" class=\"dataframe\">\n",
       "  <thead>\n",
       "    <tr style=\"text-align: right;\">\n",
       "      <th></th>\n",
       "      <th>Id</th>\n",
       "      <th>SepalLengthCm</th>\n",
       "      <th>SepalWidthCm</th>\n",
       "      <th>PetalLengthCm</th>\n",
       "      <th>PetalWidthCm</th>\n",
       "      <th>Species</th>\n",
       "    </tr>\n",
       "  </thead>\n",
       "  <tbody>\n",
       "    <tr>\n",
       "      <th>0</th>\n",
       "      <td>1</td>\n",
       "      <td>5.1</td>\n",
       "      <td>3.5</td>\n",
       "      <td>1.4</td>\n",
       "      <td>0.2</td>\n",
       "      <td>Iris-setosa</td>\n",
       "    </tr>\n",
       "    <tr>\n",
       "      <th>1</th>\n",
       "      <td>2</td>\n",
       "      <td>4.9</td>\n",
       "      <td>3.0</td>\n",
       "      <td>1.4</td>\n",
       "      <td>0.2</td>\n",
       "      <td>Iris-setosa</td>\n",
       "    </tr>\n",
       "    <tr>\n",
       "      <th>2</th>\n",
       "      <td>3</td>\n",
       "      <td>4.7</td>\n",
       "      <td>3.2</td>\n",
       "      <td>1.3</td>\n",
       "      <td>0.2</td>\n",
       "      <td>Iris-setosa</td>\n",
       "    </tr>\n",
       "    <tr>\n",
       "      <th>3</th>\n",
       "      <td>4</td>\n",
       "      <td>4.6</td>\n",
       "      <td>3.1</td>\n",
       "      <td>1.5</td>\n",
       "      <td>0.2</td>\n",
       "      <td>Iris-setosa</td>\n",
       "    </tr>\n",
       "    <tr>\n",
       "      <th>4</th>\n",
       "      <td>5</td>\n",
       "      <td>5.0</td>\n",
       "      <td>3.6</td>\n",
       "      <td>1.4</td>\n",
       "      <td>0.2</td>\n",
       "      <td>Iris-setosa</td>\n",
       "    </tr>\n",
       "  </tbody>\n",
       "</table>\n",
       "</div>"
      ],
      "text/plain": [
       "   Id  SepalLengthCm  SepalWidthCm  PetalLengthCm  PetalWidthCm      Species\n",
       "0   1            5.1           3.5            1.4           0.2  Iris-setosa\n",
       "1   2            4.9           3.0            1.4           0.2  Iris-setosa\n",
       "2   3            4.7           3.2            1.3           0.2  Iris-setosa\n",
       "3   4            4.6           3.1            1.5           0.2  Iris-setosa\n",
       "4   5            5.0           3.6            1.4           0.2  Iris-setosa"
      ]
     },
     "execution_count": 2,
     "metadata": {},
     "output_type": "execute_result"
    }
   ],
   "source": [
    "names = ['Id','SepalLengthCm','SepalWidthCm','PetalLengthCm','PetalWidthCm','Species']\n",
    "features = names[:-1]\n",
    "df = pd.read_csv(\"veriler/iris.csv\")\n",
    "df.head()"
   ]
  },
  {
   "cell_type": "code",
   "execution_count": 3,
   "id": "c2dd6759",
   "metadata": {},
   "outputs": [
    {
     "data": {
      "text/plain": [
       "Species\n",
       "Iris-setosa        50\n",
       "Iris-versicolor    50\n",
       "Iris-virginica     50\n",
       "dtype: int64"
      ]
     },
     "execution_count": 3,
     "metadata": {},
     "output_type": "execute_result"
    }
   ],
   "source": [
    "count_class = df.groupby(\"Species\").size()\n",
    "count_class\n"
   ]
  },
  {
   "cell_type": "code",
   "execution_count": 4,
   "id": "051592c7",
   "metadata": {},
   "outputs": [],
   "source": [
    "X = df.drop([\"Species\",\"Id\"], axis=1)\n",
    "Y = df[\"Species\"]\n",
    "x_train, x_test, y_train, y_test = train_test_split(X, Y, test_size=0.33)"
   ]
  },
  {
   "cell_type": "markdown",
   "id": "66cfa27f",
   "metadata": {},
   "source": [
    "Random Forest algoritmasını eğitiyoruz."
   ]
  },
  {
   "cell_type": "code",
   "execution_count": 5,
   "id": "4a3045ad",
   "metadata": {},
   "outputs": [],
   "source": [
    "rf_model = RandomForestClassifier(n_estimators=100).fit(x_train, y_train)"
   ]
  },
  {
   "cell_type": "markdown",
   "id": "3c1bf247",
   "metadata": {},
   "source": [
    "Algoritmamızın doğruluğunu ölçüyoruz."
   ]
  },
  {
   "cell_type": "code",
   "execution_count": 6,
   "id": "f9108b35",
   "metadata": {},
   "outputs": [
    {
     "name": "stdout",
     "output_type": "stream",
     "text": [
      "Precisión:  94.0 %\n"
     ]
    }
   ],
   "source": [
    "y_predicted = rf_model.predict(x_test)\n",
    "accuracy = accuracy_score(y_test, y_predicted)\n",
    "print(\"Precisión: \",  accuracy*100, \"%\")"
   ]
  },
  {
   "cell_type": "markdown",
   "id": "26c4090b",
   "metadata": {},
   "source": [
    "Random forest modelini kullanarak bir Shap explainer nesnesi oluşturur.Daha sonra, shap. TreeExplainer fonksiyonu kullanılarak bir Shap explainer nesnesi oluşturulur. Bu nesne, Random Forest modelinin nasıl karar verdiğini anlamak için kullanılabilir."
   ]
  },
  {
   "cell_type": "code",
   "execution_count": 7,
   "id": "7e6c48c9",
   "metadata": {},
   "outputs": [],
   "source": [
    "explainer = shap.TreeExplainer(rf_model)"
   ]
  },
  {
   "cell_type": "markdown",
   "id": "26641912",
   "metadata": {},
   "source": [
    "Test veri setindeki ilk satırı ve bu satırdaki beklenen sınıfı ekrana yazdırılır.                                   \n",
    "Aynı zamanda, seçilen satırdaki beklenen sınıf da y_test veri setinden alınarak yazdırılır."
   ]
  },
  {
   "cell_type": "code",
   "execution_count": 13,
   "id": "36857362",
   "metadata": {},
   "outputs": [
    {
     "name": "stdout",
     "output_type": "stream",
     "text": [
      "SepalLengthCm    5.1\n",
      "SepalWidthCm     3.7\n",
      "PetalLengthCm    1.5\n",
      "PetalWidthCm     0.4\n",
      "Name: 21, dtype: float64\n",
      "Expected:  Iris-setosa\n"
     ]
    }
   ],
   "source": [
    "print(x_test.iloc[0])\n",
    "print(\"Expected: \", y_test.iloc[0])"
   ]
  },
  {
   "cell_type": "markdown",
   "id": "8dfaff23",
   "metadata": {},
   "source": [
    "Shap explainer kullanarak bir örnek için modelin nasıl karar verdiğini açıklar. Öncelikle, explainer.shap_values fonksiyonu kullanılarak seçilen örnek için modelin nasıl karar verdiğini açıklayan Shap değerleri elde edilir. Daha sonra, shap.force_plot fonksiyonu kullanılarak bu değerler kullanılarak bir görsel oluşturulur. Görsel, seçilen örnek için modelin nasıl karar verdiğini gösterir."
   ]
  },
  {
   "cell_type": "code",
   "execution_count": 9,
   "id": "30876754",
   "metadata": {},
   "outputs": [
    {
     "data": {
      "text/html": [
       "\n",
       "<div id='iX48E4RS5JO707BY82C39'>\n",
       "<div style='color: #900; text-align: center;'>\n",
       "  <b>Visualization omitted, Javascript library not loaded!</b><br>\n",
       "  Have you run `initjs()` in this notebook? If this notebook was from another\n",
       "  user you must also trust this notebook (File -> Trust notebook). If you are viewing\n",
       "  this notebook on github the Javascript has been stripped for security. If you are using\n",
       "  JupyterLab this error is because a JupyterLab extension has not yet been written.\n",
       "</div></div>\n",
       " <script>\n",
       "   if (window.SHAP) SHAP.ReactDom.render(\n",
       "    SHAP.React.createElement(SHAP.AdditiveForceVisualizer, {\"outNames\": [\"f(x)\"], \"baseValue\": 0.3433000000000001, \"outValue\": 1.0, \"link\": \"identity\", \"featureNames\": [\"SepalLengthCm\", \"SepalWidthCm\", \"PetalLengthCm\", \"PetalWidthCm\"], \"features\": {\"0\": {\"effect\": 0.09695990962770305, \"value\": 5.1}, \"1\": {\"effect\": 0.012948756744289951, \"value\": 3.7}, \"2\": {\"effect\": 0.338057100334863, \"value\": 1.5}, \"3\": {\"effect\": 0.20873423329314392, \"value\": 0.4}}, \"plot_cmap\": \"RdBu\", \"labelMargin\": 20}),\n",
       "    document.getElementById('iX48E4RS5JO707BY82C39')\n",
       "  );\n",
       "</script>"
      ],
      "text/plain": [
       "<shap.plots._force.AdditiveForceVisualizer at 0x1a35ba7e6d0>"
      ]
     },
     "execution_count": 9,
     "metadata": {},
     "output_type": "execute_result"
    }
   ],
   "source": [
    "shap_values = explainer.shap_values(observation)\n",
    "shap.force_plot(explainer.expected_value[0], shap_values[0], features=observation)\n"
   ]
  },
  {
   "cell_type": "markdown",
   "id": "c2335c91",
   "metadata": {},
   "source": [
    "Shap explainer kullanarak bir eğitim veri setindeki tüm örnekler için modelin nasıl karar verdiğini açıklar."
   ]
  },
  {
   "cell_type": "code",
   "execution_count": 10,
   "id": "361b27aa",
   "metadata": {},
   "outputs": [
    {
     "data": {
      "text/html": [
       "\n",
       "<div id='i95GUZ5Q3OBQEGUJV1H80'>\n",
       "<div style='color: #900; text-align: center;'>\n",
       "  <b>Visualization omitted, Javascript library not loaded!</b><br>\n",
       "  Have you run `initjs()` in this notebook? If this notebook was from another\n",
       "  user you must also trust this notebook (File -> Trust notebook). If you are viewing\n",
       "  this notebook on github the Javascript has been stripped for security. If you are using\n",
       "  JupyterLab this error is because a JupyterLab extension has not yet been written.\n",
       "</div></div>\n",
       " <script>\n",
       "   if (window.SHAP) SHAP.ReactDom.render(\n",
       "    SHAP.React.createElement(SHAP.AdditiveForceArrayVisualizer, {\"outNames\": [\"f(x)\"], \"baseValue\": 0.3433000000000001, \"link\": \"identity\", \"featureNames\": [\"SepalLengthCm\", \"SepalWidthCm\", \"PetalLengthCm\", \"PetalWidthCm\"], \"explanations\": [{\"outValue\": 1.0, \"simIndex\": 15.0, \"features\": {\"0\": {\"effect\": 0.10667073622249192, \"value\": 5.2}, \"1\": {\"effect\": 0.005744533923085995, \"value\": 3.5}, \"2\": {\"effect\": 0.3362314489422305, \"value\": 1.5}, \"3\": {\"effect\": 0.20805328091219152, \"value\": 0.2}}}, {\"outValue\": 1.6653345369377348e-16, \"simIndex\": 77.0, \"features\": {\"0\": {\"effect\": -0.04272279700326941, \"value\": 6.0}, \"1\": {\"effect\": -0.0005683808824622149, \"value\": 3.0}, \"2\": {\"effect\": -0.17658191600330264, \"value\": 4.8}, \"3\": {\"effect\": -0.1234269061109657, \"value\": 1.8}}}, {\"outValue\": 1.0, \"simIndex\": 24.0, \"features\": {\"0\": {\"effect\": 0.11007073622249192, \"value\": 4.8}, \"1\": {\"effect\": 0.002994533923085996, \"value\": 3.1}, \"2\": {\"effect\": 0.3362314489422305, \"value\": 1.6}, \"3\": {\"effect\": 0.2074032809121915, \"value\": 0.2}}}, {\"outValue\": 1.6653345369377348e-16, \"simIndex\": 63.0, \"features\": {\"0\": {\"effect\": -0.042195446440315816, \"value\": 6.8}, \"1\": {\"effect\": 0.00010670944152783691, \"value\": 3.2}, \"2\": {\"effect\": -0.18711692640835947, \"value\": 5.9}, \"3\": {\"effect\": -0.11409433659285251, \"value\": 2.3}}}, {\"outValue\": 1.0, \"simIndex\": 8.0, \"features\": {\"0\": {\"effect\": 0.09695990962770305, \"value\": 5.1}, \"1\": {\"effect\": 0.012948756744289951, \"value\": 3.8}, \"2\": {\"effect\": 0.338057100334863, \"value\": 1.5}, \"3\": {\"effect\": 0.20873423329314392, \"value\": 0.3}}}, {\"outValue\": 1.0, \"simIndex\": 14.0, \"features\": {\"0\": {\"effect\": 0.10667073622249192, \"value\": 5.2}, \"1\": {\"effect\": 0.005744533923085995, \"value\": 3.4}, \"2\": {\"effect\": 0.3362314489422305, \"value\": 1.4}, \"3\": {\"effect\": 0.20805328091219152, \"value\": 0.2}}}, {\"outValue\": 1.1102230246251565e-16, \"simIndex\": 71.0, \"features\": {\"0\": {\"effect\": -0.04166761589606738, \"value\": 7.2}, \"1\": {\"effect\": 0.007784539985776292, \"value\": 3.6}, \"2\": {\"effect\": -0.1929851082265413, \"value\": 6.1}, \"3\": {\"effect\": -0.1164318158631676, \"value\": 2.5}}}, {\"outValue\": 1.1102230246251565e-16, \"simIndex\": 86.0, \"features\": {\"0\": {\"effect\": -0.043251778604079756, \"value\": 5.8}, \"1\": {\"effect\": -0.004695738045116511, \"value\": 2.7}, \"2\": {\"effect\": -0.17682075039109624, \"value\": 4.1}, \"3\": {\"effect\": -0.1185317329597075, \"value\": 1.0}}}, {\"outValue\": 1.0, \"simIndex\": 32.0, \"features\": {\"0\": {\"effect\": 0.11124720681072722, \"value\": 4.4}, \"1\": {\"effect\": 0.0018180633348507014, \"value\": 3.0}, \"2\": {\"effect\": 0.3362314489422305, \"value\": 1.3}, \"3\": {\"effect\": 0.2074032809121915, \"value\": 0.2}}}, {\"outValue\": 1.1102230246251565e-16, \"simIndex\": 90.0, \"features\": {\"0\": {\"effect\": -0.02135638552183844, \"value\": 5.6}, \"1\": {\"effect\": -0.005025520791548417, \"value\": 2.9}, \"2\": {\"effect\": -0.1863088520085548, \"value\": 3.6}, \"3\": {\"effect\": -0.13060924167805835, \"value\": 1.3}}}, {\"outValue\": 1.1102230246251565e-16, \"simIndex\": 75.0, \"features\": {\"0\": {\"effect\": -0.04136248403192703, \"value\": 6.2}, \"1\": {\"effect\": -0.0035015068251469813, \"value\": 2.8}, \"2\": {\"effect\": -0.17500910303196027, \"value\": 4.8}, \"3\": {\"effect\": -0.1234269061109657, \"value\": 1.8}}}, {\"outValue\": 1.0, \"simIndex\": 13.0, \"features\": {\"0\": {\"effect\": 0.10667073622249192, \"value\": 5.0}, \"1\": {\"effect\": 0.005744533923085995, \"value\": 3.5}, \"2\": {\"effect\": 0.3362314489422305, \"value\": 1.6}, \"3\": {\"effect\": 0.20805328091219152, \"value\": 0.6}}}, {\"outValue\": 5.551115123125783e-17, \"simIndex\": 81.0, \"features\": {\"0\": {\"effect\": -0.043182889296219856, \"value\": 6.7}, \"1\": {\"effect\": -0.0017626121024317447, \"value\": 3.1}, \"2\": {\"effect\": -0.17814427561315088, \"value\": 4.7}, \"3\": {\"effect\": -0.12021022298819753, \"value\": 1.5}}}, {\"outValue\": 1.0, \"simIndex\": 16.0, \"features\": {\"0\": {\"effect\": 0.10667073622249192, \"value\": 5.1}, \"1\": {\"effect\": 0.005744533923085995, \"value\": 3.4}, \"2\": {\"effect\": 0.3362314489422305, \"value\": 1.5}, \"3\": {\"effect\": 0.20805328091219152, \"value\": 0.2}}}, {\"outValue\": 1.6653345369377348e-16, \"simIndex\": 62.0, \"features\": {\"0\": {\"effect\": -0.042195446440315816, \"value\": 7.6}, \"1\": {\"effect\": 0.00010670944152783691, \"value\": 3.0}, \"2\": {\"effect\": -0.18711692640835947, \"value\": 6.6}, \"3\": {\"effect\": -0.11409433659285251, \"value\": 2.1}}}, {\"outValue\": 1.0, \"simIndex\": 7.0, \"features\": {\"0\": {\"effect\": 0.09695990962770305, \"value\": 5.3}, \"1\": {\"effect\": 0.012948756744289951, \"value\": 3.7}, \"2\": {\"effect\": 0.338057100334863, \"value\": 1.5}, \"3\": {\"effect\": 0.20873423329314392, \"value\": 0.2}}}, {\"outValue\": 1.1102230246251565e-16, \"simIndex\": 84.0, \"features\": {\"0\": {\"effect\": -0.04160177860407975, \"value\": 5.8}, \"1\": {\"effect\": -0.004695738045116511, \"value\": 2.7}, \"2\": {\"effect\": -0.17682075039109624, \"value\": 3.9}, \"3\": {\"effect\": -0.1201817329597075, \"value\": 1.2}}}, {\"outValue\": 1.6653345369377348e-16, \"simIndex\": 61.0, \"features\": {\"0\": {\"effect\": -0.042195446440315816, \"value\": 7.2}, \"1\": {\"effect\": 0.00010670944152783691, \"value\": 3.2}, \"2\": {\"effect\": -0.18711692640835947, \"value\": 6.0}, \"3\": {\"effect\": -0.11409433659285251, \"value\": 1.8}}}, {\"outValue\": 1.6653345369377348e-16, \"simIndex\": 64.0, \"features\": {\"0\": {\"effect\": -0.042195446440315816, \"value\": 6.3}, \"1\": {\"effect\": 0.00010670944152783691, \"value\": 3.3}, \"2\": {\"effect\": -0.18711692640835947, \"value\": 6.0}, \"3\": {\"effect\": -0.11409433659285251, \"value\": 2.5}}}, {\"outValue\": 1.6653345369377348e-16, \"simIndex\": 60.0, \"features\": {\"0\": {\"effect\": -0.042195446440315816, \"value\": 6.7}, \"1\": {\"effect\": 0.00010670944152783691, \"value\": 3.1}, \"2\": {\"effect\": -0.18711692640835947, \"value\": 5.6}, \"3\": {\"effect\": -0.11409433659285251, \"value\": 2.4}}}, {\"outValue\": 1.0, \"simIndex\": 34.0, \"features\": {\"0\": {\"effect\": 0.11360564698166739, \"value\": 4.4}, \"1\": {\"effect\": -0.000433111878824512, \"value\": 2.9}, \"2\": {\"effect\": 0.3361241839849655, \"value\": 1.4}, \"3\": {\"effect\": 0.2074032809121915, \"value\": 0.2}}}, {\"outValue\": 1.0, \"simIndex\": 6.0, \"features\": {\"0\": {\"effect\": 0.09695990962770305, \"value\": 5.1}, \"1\": {\"effect\": 0.012948756744289951, \"value\": 3.8}, \"2\": {\"effect\": 0.338057100334863, \"value\": 1.9}, \"3\": {\"effect\": 0.20873423329314392, \"value\": 0.4}}}, {\"outValue\": 1.1102230246251565e-16, \"simIndex\": 55.0, \"features\": {\"0\": {\"effect\": -0.042184103847723226, \"value\": 6.7}, \"1\": {\"effect\": 3.703351560191097e-05, \"value\": 3.0}, \"2\": {\"effect\": -0.18698891714910024, \"value\": 5.2}, \"3\": {\"effect\": -0.11416401251877843, \"value\": 2.3}}}, {\"outValue\": 1.0, \"simIndex\": 12.0, \"features\": {\"0\": {\"effect\": 0.10667073622249192, \"value\": 4.8}, \"1\": {\"effect\": 0.005744533923085995, \"value\": 3.4}, \"2\": {\"effect\": 0.3362314489422305, \"value\": 1.6}, \"3\": {\"effect\": 0.20805328091219152, \"value\": 0.2}}}, {\"outValue\": 1.0, \"simIndex\": 25.0, \"features\": {\"0\": {\"effect\": 0.11007073622249192, \"value\": 4.9}, \"1\": {\"effect\": 0.002994533923085996, \"value\": 3.1}, \"2\": {\"effect\": 0.3362314489422305, \"value\": 1.5}, \"3\": {\"effect\": 0.2074032809121915, \"value\": 0.1}}}, {\"outValue\": 1.6653345369377348e-16, \"simIndex\": 97.0, \"features\": {\"0\": {\"effect\": 0.005491601101676432, \"value\": 5.5}, \"1\": {\"effect\": -0.007717836557567744, \"value\": 2.5}, \"2\": {\"effect\": -0.1952216562269704, \"value\": 4.0}, \"3\": {\"effect\": -0.14585210831713818, \"value\": 1.3}}}, {\"outValue\": 1.0, \"simIndex\": 26.0, \"features\": {\"0\": {\"effect\": 0.11007073622249192, \"value\": 5.0}, \"1\": {\"effect\": 0.002994533923085996, \"value\": 3.0}, \"2\": {\"effect\": 0.3362314489422305, \"value\": 1.6}, \"3\": {\"effect\": 0.2074032809121915, \"value\": 0.2}}}, {\"outValue\": 0.97, \"simIndex\": 1.0, \"features\": {\"0\": {\"effect\": -0.008226010790523094, \"value\": 5.7}, \"1\": {\"effect\": 0.03518608358234156, \"value\": 4.4}, \"2\": {\"effect\": 0.361377877868372, \"value\": 1.5}, \"3\": {\"effect\": 0.23836204933980945, \"value\": 0.4}}}, {\"outValue\": 5.551115123125783e-17, \"simIndex\": 80.0, \"features\": {\"0\": {\"effect\": -0.043182889296219856, \"value\": 7.0}, \"1\": {\"effect\": -0.0017626121024317447, \"value\": 3.2}, \"2\": {\"effect\": -0.17814427561315088, \"value\": 4.7}, \"3\": {\"effect\": -0.12021022298819753, \"value\": 1.4}}}, {\"outValue\": 0.97, \"simIndex\": 2.0, \"features\": {\"0\": {\"effect\": -0.008226010790523094, \"value\": 5.7}, \"1\": {\"effect\": 0.03518608358234156, \"value\": 3.8}, \"2\": {\"effect\": 0.361377877868372, \"value\": 1.7}, \"3\": {\"effect\": 0.23836204933980945, \"value\": 0.3}}}, {\"outValue\": 1.1102230246251565e-16, \"simIndex\": 94.0, \"features\": {\"0\": {\"effect\": -0.021320168156130487, \"value\": 5.6}, \"1\": {\"effect\": -0.006329674193122604, \"value\": 2.8}, \"2\": {\"effect\": -0.19099453384951506, \"value\": 4.9}, \"3\": {\"effect\": -0.12465562380123184, \"value\": 2.0}}}, {\"outValue\": 1.1102230246251565e-16, \"simIndex\": 89.0, \"features\": {\"0\": {\"effect\": -0.02135638552183844, \"value\": 5.7}, \"1\": {\"effect\": -0.005025520791548417, \"value\": 2.9}, \"2\": {\"effect\": -0.1863088520085548, \"value\": 4.2}, \"3\": {\"effect\": -0.13060924167805835, \"value\": 1.3}}}, {\"outValue\": 1.1102230246251565e-16, \"simIndex\": 85.0, \"features\": {\"0\": {\"effect\": -0.04160177860407975, \"value\": 5.8}, \"1\": {\"effect\": -0.004695738045116511, \"value\": 2.6}, \"2\": {\"effect\": -0.17682075039109624, \"value\": 4.0}, \"3\": {\"effect\": -0.1201817329597075, \"value\": 1.2}}}, {\"outValue\": 0.020000000000000073, \"simIndex\": 100.0, \"features\": {\"0\": {\"effect\": 0.06771133265514764, \"value\": 5.1}, \"1\": {\"effect\": -0.011462401094510789, \"value\": 2.5}, \"2\": {\"effect\": -0.20092521639802483, \"value\": 3.0}, \"3\": {\"effect\": -0.17862371516261202, \"value\": 1.1}}}, {\"outValue\": 5.551115123125783e-17, \"simIndex\": 79.0, \"features\": {\"0\": {\"effect\": -0.043182889296219856, \"value\": 6.4}, \"1\": {\"effect\": -0.0017626121024317447, \"value\": 3.2}, \"2\": {\"effect\": -0.17814427561315088, \"value\": 4.5}, \"3\": {\"effect\": -0.12021022298819753, \"value\": 1.5}}}, {\"outValue\": 0.01000000000000012, \"simIndex\": 98.0, \"features\": {\"0\": {\"effect\": 0.05302304144122616, \"value\": 5.4}, \"1\": {\"effect\": 0.00027750072091623835, \"value\": 3.0}, \"2\": {\"effect\": -0.22018874058975282, \"value\": 4.5}, \"3\": {\"effect\": -0.16641180157238955, \"value\": 1.5}}}, {\"outValue\": 1.6653345369377348e-16, \"simIndex\": 70.0, \"features\": {\"0\": {\"effect\": -0.04266559569404717, \"value\": 6.3}, \"1\": {\"effect\": 0.0024365601877964936, \"value\": 3.4}, \"2\": {\"effect\": -0.18711692640835947, \"value\": 5.6}, \"3\": {\"effect\": -0.11595403808538982, \"value\": 2.4}}}, {\"outValue\": 5.551115123125783e-17, \"simIndex\": 91.0, \"features\": {\"0\": {\"effect\": -0.020348159026111947, \"value\": 5.7}, \"1\": {\"effect\": -0.0019576789112065365, \"value\": 3.0}, \"2\": {\"effect\": -0.19038492038462318, \"value\": 4.2}, \"3\": {\"effect\": -0.13060924167805835, \"value\": 1.2}}}, {\"outValue\": 1.1102230246251565e-16, \"simIndex\": 54.0, \"features\": {\"0\": {\"effect\": -0.042184103847723226, \"value\": 6.5}, \"1\": {\"effect\": 3.703351560191097e-05, \"value\": 3.2}, \"2\": {\"effect\": -0.18698891714910024, \"value\": 5.1}, \"3\": {\"effect\": -0.11416401251877843, \"value\": 2.0}}}, {\"outValue\": 1.0, \"simIndex\": 23.0, \"features\": {\"0\": {\"effect\": 0.11007073622249192, \"value\": 4.9}, \"1\": {\"effect\": 0.002994533923085996, \"value\": 3.1}, \"2\": {\"effect\": 0.3362314489422305, \"value\": 1.5}, \"3\": {\"effect\": 0.2074032809121915, \"value\": 0.1}}}, {\"outValue\": 1.6653345369377348e-16, \"simIndex\": 96.0, \"features\": {\"0\": {\"effect\": 0.005491601101676432, \"value\": 5.5}, \"1\": {\"effect\": -0.007717836557567744, \"value\": 2.3}, \"2\": {\"effect\": -0.1952216562269704, \"value\": 4.0}, \"3\": {\"effect\": -0.14585210831713818, \"value\": 1.3}}}, {\"outValue\": 1.6653345369377348e-16, \"simIndex\": 76.0, \"features\": {\"0\": {\"effect\": -0.04272279700326941, \"value\": 5.9}, \"1\": {\"effect\": -0.0005683808824622149, \"value\": 3.2}, \"2\": {\"effect\": -0.17658191600330264, \"value\": 4.8}, \"3\": {\"effect\": -0.1234269061109657, \"value\": 1.8}}}, {\"outValue\": 1.0, \"simIndex\": 19.0, \"features\": {\"0\": {\"effect\": 0.10784720681072722, \"value\": 4.6}, \"1\": {\"effect\": 0.004568063334850701, \"value\": 3.4}, \"2\": {\"effect\": 0.3362314489422305, \"value\": 1.4}, \"3\": {\"effect\": 0.20805328091219152, \"value\": 0.3}}}, {\"outValue\": 1.6653345369377348e-16, \"simIndex\": 65.0, \"features\": {\"0\": {\"effect\": -0.042195446440315816, \"value\": 6.4}, \"1\": {\"effect\": 0.00010670944152783691, \"value\": 3.2}, \"2\": {\"effect\": -0.18711692640835947, \"value\": 5.3}, \"3\": {\"effect\": -0.11409433659285251, \"value\": 2.3}}}, {\"outValue\": 1.6653345369377348e-16, \"simIndex\": 46.0, \"features\": {\"0\": {\"effect\": -0.04083513346897343, \"value\": 6.4}, \"1\": {\"effect\": -0.0028264165011569293, \"value\": 2.7}, \"2\": {\"effect\": -0.1855441134370171, \"value\": 5.3}, \"3\": {\"effect\": -0.11409433659285251, \"value\": 1.9}}}, {\"outValue\": 0.9600000000000002, \"simIndex\": 3.0, \"features\": {\"0\": {\"effect\": 0.030151732449284197, \"value\": 5.5}, \"1\": {\"effect\": 0.012473671095053198, \"value\": 3.5}, \"2\": {\"effect\": 0.3438820243991907, \"value\": 1.3}, \"3\": {\"effect\": 0.23019257205647187, \"value\": 0.2}}}, {\"outValue\": 1.0, \"simIndex\": 17.0, \"features\": {\"0\": {\"effect\": 0.10667073622249192, \"value\": 4.8}, \"1\": {\"effect\": 0.005744533923085995, \"value\": 3.4}, \"2\": {\"effect\": 0.3362314489422305, \"value\": 1.9}, \"3\": {\"effect\": 0.20805328091219152, \"value\": 0.2}}}, {\"outValue\": 1.1102230246251565e-16, \"simIndex\": 93.0, \"features\": {\"0\": {\"effect\": -0.021320168156130487, \"value\": 5.7}, \"1\": {\"effect\": -0.006329674193122604, \"value\": 2.5}, \"2\": {\"effect\": -0.19099453384951506, \"value\": 5.0}, \"3\": {\"effect\": -0.12465562380123184, \"value\": 2.0}}}, {\"outValue\": 1.6653345369377348e-16, \"simIndex\": 59.0, \"features\": {\"0\": {\"effect\": -0.042195446440315816, \"value\": 6.4}, \"1\": {\"effect\": 0.00010670944152783691, \"value\": 3.1}, \"2\": {\"effect\": -0.18711692640835947, \"value\": 5.5}, \"3\": {\"effect\": -0.11409433659285251, \"value\": 1.8}}}, {\"outValue\": 1.6653345369377348e-16, \"simIndex\": 66.0, \"features\": {\"0\": {\"effect\": -0.042195446440315816, \"value\": 6.7}, \"1\": {\"effect\": 0.00010670944152783691, \"value\": 3.3}, \"2\": {\"effect\": -0.18711692640835947, \"value\": 5.7}, \"3\": {\"effect\": -0.11409433659285251, \"value\": 2.5}}}, {\"outValue\": 1.6653345369377348e-16, \"simIndex\": 40.0, \"features\": {\"0\": {\"effect\": -0.04193519849038452, \"value\": 6.8}, \"1\": {\"effect\": -0.004519363968004125, \"value\": 2.8}, \"2\": {\"effect\": -0.18782170766157652, \"value\": 4.8}, \"3\": {\"effect\": -0.10902372988003478, \"value\": 1.4}}}, {\"outValue\": 1.1102230246251565e-16, \"simIndex\": 50.0, \"features\": {\"0\": {\"effect\": -0.04157974131211069, \"value\": 6.3}, \"1\": {\"effect\": -0.0013372008148824195, \"value\": 2.9}, \"2\": {\"effect\": -0.18628872128015436, \"value\": 5.6}, \"3\": {\"effect\": -0.11409433659285251, \"value\": 1.8}}}, {\"outValue\": 1.6653345369377348e-16, \"simIndex\": 47.0, \"features\": {\"0\": {\"effect\": -0.04083513346897343, \"value\": 7.4}, \"1\": {\"effect\": -0.0028264165011569293, \"value\": 2.8}, \"2\": {\"effect\": -0.1855441134370171, \"value\": 6.1}, \"3\": {\"effect\": -0.11409433659285251, \"value\": 1.9}}}, {\"outValue\": 1.6653345369377348e-16, \"simIndex\": 39.0, \"features\": {\"0\": {\"effect\": -0.04207100860962799, \"value\": 6.7}, \"1\": {\"effect\": -0.0009808236272552317, \"value\": 3.0}, \"2\": {\"effect\": -0.18960483134496722, \"value\": 5.0}, \"3\": {\"effect\": -0.1106433364181495, \"value\": 1.7}}}, {\"outValue\": 1.6653345369377348e-16, \"simIndex\": 95.0, \"features\": {\"0\": {\"effect\": 0.003841601101676431, \"value\": 5.5}, \"1\": {\"effect\": -0.007717836557567744, \"value\": 2.4}, \"2\": {\"effect\": -0.1952216562269704, \"value\": 3.7}, \"3\": {\"effect\": -0.1442021083171382, \"value\": 1.0}}}, {\"outValue\": 0.99, \"simIndex\": 35.0, \"features\": {\"0\": {\"effect\": 0.11093959306009876, \"value\": 4.5}, \"1\": {\"effect\": -0.007638871682746083, \"value\": 2.3}, \"2\": {\"effect\": 0.3359959977104557, \"value\": 1.3}, \"3\": {\"effect\": 0.2074032809121915, \"value\": 0.3}}}, {\"outValue\": 1.1102230246251565e-16, \"simIndex\": 87.0, \"features\": {\"0\": {\"effect\": -0.02222636101203452, \"value\": 5.7}, \"1\": {\"effect\": -0.008129319811156261, \"value\": 2.8}, \"2\": {\"effect\": -0.18233507749875086, \"value\": 4.5}, \"3\": {\"effect\": -0.13060924167805835, \"value\": 1.3}}}, {\"outValue\": 1.0, \"simIndex\": 11.0, \"features\": {\"0\": {\"effect\": 0.10667073622249192, \"value\": 5.0}, \"1\": {\"effect\": 0.005744533923085995, \"value\": 3.5}, \"2\": {\"effect\": 0.3362314489422305, \"value\": 1.3}, \"3\": {\"effect\": 0.20805328091219152, \"value\": 0.3}}}, {\"outValue\": 1.6653345369377348e-16, \"simIndex\": 69.0, \"features\": {\"0\": {\"effect\": -0.04266559569404717, \"value\": 6.2}, \"1\": {\"effect\": 0.0024365601877964936, \"value\": 3.4}, \"2\": {\"effect\": -0.18711692640835947, \"value\": 5.4}, \"3\": {\"effect\": -0.11595403808538982, \"value\": 2.3}}}, {\"outValue\": 1.0, \"simIndex\": 4.0, \"features\": {\"0\": {\"effect\": 0.08153562442216786, \"value\": 5.4}, \"1\": {\"effect\": 0.016287877114660322, \"value\": 3.7}, \"2\": {\"effect\": 0.3419719482184609, \"value\": 1.5}, \"3\": {\"effect\": 0.21690455024471084, \"value\": 0.2}}}, {\"outValue\": 1.0, \"simIndex\": 27.0, \"features\": {\"0\": {\"effect\": 0.11007073622249192, \"value\": 4.9}, \"1\": {\"effect\": 0.002994533923085996, \"value\": 3.0}, \"2\": {\"effect\": 0.3362314489422305, \"value\": 1.4}, \"3\": {\"effect\": 0.2074032809121915, \"value\": 0.2}}}, {\"outValue\": 1.1102230246251565e-16, \"simIndex\": 43.0, \"features\": {\"0\": {\"effect\": -0.040695585748175715, \"value\": 5.8}, \"1\": {\"effect\": -0.0028960924270828555, \"value\": 2.8}, \"2\": {\"effect\": -0.18548020674186042, \"value\": 5.1}, \"3\": {\"effect\": -0.114228115082881, \"value\": 2.4}}}, {\"outValue\": 1.0, \"simIndex\": 22.0, \"features\": {\"0\": {\"effect\": 0.11007073622249192, \"value\": 5.0}, \"1\": {\"effect\": 0.002994533923085996, \"value\": 3.3}, \"2\": {\"effect\": 0.3362314489422305, \"value\": 1.4}, \"3\": {\"effect\": 0.2074032809121915, \"value\": 0.2}}}, {\"outValue\": 1.1102230246251565e-16, \"simIndex\": 37.0, \"features\": {\"0\": {\"effect\": -0.04143701459409759, \"value\": 6.1}, \"1\": {\"effect\": -0.0034567736440140728, \"value\": 2.6}, \"2\": {\"effect\": -0.19853588473330006, \"value\": 5.6}, \"3\": {\"effect\": -0.09987032702858827, \"value\": 1.4}}}, {\"outValue\": 1.1102230246251565e-16, \"simIndex\": 44.0, \"features\": {\"0\": {\"effect\": -0.04082379087638084, \"value\": 6.3}, \"1\": {\"effect\": -0.0028960924270828555, \"value\": 2.7}, \"2\": {\"effect\": -0.18541610417775783, \"value\": 4.9}, \"3\": {\"effect\": -0.11416401251877843, \"value\": 1.8}}}, {\"outValue\": 1.0, \"simIndex\": 9.0, \"features\": {\"0\": {\"effect\": 0.09813638021593835, \"value\": 4.6}, \"1\": {\"effect\": 0.011772286156054655, \"value\": 3.6}, \"2\": {\"effect\": 0.338057100334863, \"value\": 1.0}, \"3\": {\"effect\": 0.20873423329314392, \"value\": 0.2}}}, {\"outValue\": 1.0, \"simIndex\": 28.0, \"features\": {\"0\": {\"effect\": 0.11007073622249192, \"value\": 4.8}, \"1\": {\"effect\": 0.002994533923085996, \"value\": 3.0}, \"2\": {\"effect\": 0.3362314489422305, \"value\": 1.4}, \"3\": {\"effect\": 0.2074032809121915, \"value\": 0.1}}}, {\"outValue\": 1.1102230246251565e-16, \"simIndex\": 53.0, \"features\": {\"0\": {\"effect\": -0.042184103847723226, \"value\": 5.9}, \"1\": {\"effect\": 3.703351560191097e-05, \"value\": 3.0}, \"2\": {\"effect\": -0.18698891714910024, \"value\": 5.1}, \"3\": {\"effect\": -0.11416401251877843, \"value\": 1.8}}}, {\"outValue\": 5.551115123125783e-17, \"simIndex\": 82.0, \"features\": {\"0\": {\"effect\": -0.043182889296219856, \"value\": 6.1}, \"1\": {\"effect\": -0.0017626121024317447, \"value\": 3.0}, \"2\": {\"effect\": -0.17814427561315088, \"value\": 4.6}, \"3\": {\"effect\": -0.12021022298819753, \"value\": 1.4}}}, {\"outValue\": 1.1102230246251565e-16, \"simIndex\": 72.0, \"features\": {\"0\": {\"effect\": -0.04166761589606738, \"value\": 7.9}, \"1\": {\"effect\": 0.007784539985776292, \"value\": 3.8}, \"2\": {\"effect\": -0.1929851082265413, \"value\": 6.4}, \"3\": {\"effect\": -0.1164318158631676, \"value\": 2.0}}}, {\"outValue\": 1.1102230246251565e-16, \"simIndex\": 88.0, \"features\": {\"0\": {\"effect\": -0.02222636101203452, \"value\": 5.6}, \"1\": {\"effect\": -0.008129319811156261, \"value\": 2.5}, \"2\": {\"effect\": -0.18233507749875086, \"value\": 3.9}, \"3\": {\"effect\": -0.13060924167805835, \"value\": 1.1}}}, {\"outValue\": 1.6653345369377348e-16, \"simIndex\": 58.0, \"features\": {\"0\": {\"effect\": -0.042195446440315816, \"value\": 6.8}, \"1\": {\"effect\": 0.00010670944152783691, \"value\": 3.0}, \"2\": {\"effect\": -0.18711692640835947, \"value\": 5.5}, \"3\": {\"effect\": -0.11409433659285251, \"value\": 2.1}}}, {\"outValue\": 1.6653345369377348e-16, \"simIndex\": 67.0, \"features\": {\"0\": {\"effect\": -0.042195446440315816, \"value\": 6.9}, \"1\": {\"effect\": 0.00010670944152783691, \"value\": 3.2}, \"2\": {\"effect\": -0.18711692640835947, \"value\": 5.7}, \"3\": {\"effect\": -0.11409433659285251, \"value\": 2.3}}}, {\"outValue\": 1.1102230246251565e-16, \"simIndex\": 42.0, \"features\": {\"0\": {\"effect\": -0.040695585748175715, \"value\": 5.8}, \"1\": {\"effect\": -0.0028960924270828555, \"value\": 2.7}, \"2\": {\"effect\": -0.18548020674186042, \"value\": 5.1}, \"3\": {\"effect\": -0.114228115082881, \"value\": 1.9}}}, {\"outValue\": 1.1102230246251565e-16, \"simIndex\": 51.0, \"features\": {\"0\": {\"effect\": -0.04157974131211069, \"value\": 7.3}, \"1\": {\"effect\": -0.0013372008148824195, \"value\": 2.9}, \"2\": {\"effect\": -0.18628872128015436, \"value\": 6.3}, \"3\": {\"effect\": -0.11409433659285251, \"value\": 1.8}}}, {\"outValue\": 1.0, \"simIndex\": 31.0, \"features\": {\"0\": {\"effect\": 0.11124720681072722, \"value\": 4.7}, \"1\": {\"effect\": 0.0018180633348507014, \"value\": 3.2}, \"2\": {\"effect\": 0.3362314489422305, \"value\": 1.3}, \"3\": {\"effect\": 0.2074032809121915, \"value\": 0.2}}}, {\"outValue\": 1.1102230246251565e-16, \"simIndex\": 74.0, \"features\": {\"0\": {\"effect\": -0.04236589583216757, \"value\": 6.3}, \"1\": {\"effect\": -0.0017626121024317447, \"value\": 3.3}, \"2\": {\"effect\": -0.17180798390348453, \"value\": 4.7}, \"3\": {\"effect\": -0.12736350816191613, \"value\": 1.6}}}, {\"outValue\": 1.6653345369377348e-16, \"simIndex\": 48.0, \"features\": {\"0\": {\"effect\": -0.04083513346897343, \"value\": 7.7}, \"1\": {\"effect\": -0.0028264165011569293, \"value\": 2.8}, \"2\": {\"effect\": -0.1855441134370171, \"value\": 6.7}, \"3\": {\"effect\": -0.11409433659285251, \"value\": 2.0}}}, {\"outValue\": 1.6653345369377348e-16, \"simIndex\": 57.0, \"features\": {\"0\": {\"effect\": -0.042195446440315816, \"value\": 6.5}, \"1\": {\"effect\": 0.00010670944152783691, \"value\": 3.0}, \"2\": {\"effect\": -0.18711692640835947, \"value\": 5.8}, \"3\": {\"effect\": -0.11409433659285251, \"value\": 2.2}}}, {\"outValue\": 1.6653345369377348e-16, \"simIndex\": 45.0, \"features\": {\"0\": {\"effect\": -0.04083513346897343, \"value\": 7.7}, \"1\": {\"effect\": -0.0028264165011569293, \"value\": 2.6}, \"2\": {\"effect\": -0.1855441134370171, \"value\": 6.9}, \"3\": {\"effect\": -0.11409433659285251, \"value\": 2.3}}}, {\"outValue\": 1.1102230246251565e-16, \"simIndex\": 41.0, \"features\": {\"0\": {\"effect\": -0.040695585748175715, \"value\": 5.8}, \"1\": {\"effect\": -0.0028960924270828555, \"value\": 2.7}, \"2\": {\"effect\": -0.18548020674186042, \"value\": 5.1}, \"3\": {\"effect\": -0.114228115082881, \"value\": 1.9}}}, {\"outValue\": 5.551115123125783e-17, \"simIndex\": 78.0, \"features\": {\"0\": {\"effect\": -0.043182889296219856, \"value\": 5.9}, \"1\": {\"effect\": -0.0017626121024317447, \"value\": 3.0}, \"2\": {\"effect\": -0.17814427561315088, \"value\": 4.2}, \"3\": {\"effect\": -0.12021022298819753, \"value\": 1.5}}}, {\"outValue\": 1.6653345369377348e-16, \"simIndex\": 68.0, \"features\": {\"0\": {\"effect\": -0.042195446440315816, \"value\": 7.7}, \"1\": {\"effect\": 0.00010670944152783691, \"value\": 3.0}, \"2\": {\"effect\": -0.18711692640835947, \"value\": 6.1}, \"3\": {\"effect\": -0.11409433659285251, \"value\": 2.3}}}, {\"outValue\": 1.1102230246251565e-16, \"simIndex\": 36.0, \"features\": {\"0\": {\"effect\": -0.04139650533483833, \"value\": 6.0}, \"1\": {\"effect\": -0.003913949569939998, \"value\": 2.2}, \"2\": {\"effect\": -0.19822870880737412, \"value\": 5.0}, \"3\": {\"effect\": -0.09976083628784753, \"value\": 1.5}}}, {\"outValue\": 1.6653345369377348e-16, \"simIndex\": 38.0, \"features\": {\"0\": {\"effect\": -0.04198033410138769, \"value\": 7.2}, \"1\": {\"effect\": -0.0005236477013293059, \"value\": 3.0}, \"2\": {\"effect\": -0.1937724059949761, \"value\": 5.8}, \"3\": {\"effect\": -0.10702361220230686, \"value\": 1.6}}}, {\"outValue\": 1.0, \"simIndex\": 18.0, \"features\": {\"0\": {\"effect\": 0.10667073622249192, \"value\": 5.1}, \"1\": {\"effect\": 0.005744533923085995, \"value\": 3.5}, \"2\": {\"effect\": 0.3362314489422305, \"value\": 1.4}, \"3\": {\"effect\": 0.20805328091219152, \"value\": 0.3}}}, {\"outValue\": 0.020000000000000073, \"simIndex\": 99.0, \"features\": {\"0\": {\"effect\": 0.06776304000475415, \"value\": 4.9}, \"1\": {\"effect\": -0.005417122983266291, \"value\": 2.4}, \"2\": {\"effect\": -0.21162252865626147, \"value\": 3.3}, \"3\": {\"effect\": -0.1740233883652264, \"value\": 1.0}}}, {\"outValue\": 1.0, \"simIndex\": 30.0, \"features\": {\"0\": {\"effect\": 0.11124720681072722, \"value\": 4.4}, \"1\": {\"effect\": 0.0018180633348507014, \"value\": 3.2}, \"2\": {\"effect\": 0.3362314489422305, \"value\": 1.3}, \"3\": {\"effect\": 0.2074032809121915, \"value\": 0.2}}}, {\"outValue\": 1.1102230246251565e-16, \"simIndex\": 83.0, \"features\": {\"0\": {\"effect\": -0.04256718416801473, \"value\": 6.1}, \"1\": {\"effect\": -0.003206522358842001, \"value\": 2.9}, \"2\": {\"effect\": -0.17731607048494574, \"value\": 4.7}, \"3\": {\"effect\": -0.12021022298819753, \"value\": 1.4}}}, {\"outValue\": 1.0, \"simIndex\": 10.0, \"features\": {\"0\": {\"effect\": 0.10667073622249192, \"value\": 5.0}, \"1\": {\"effect\": 0.005744533923085995, \"value\": 3.4}, \"2\": {\"effect\": 0.3362314489422305, \"value\": 1.6}, \"3\": {\"effect\": 0.20805328091219152, \"value\": 0.4}}}, {\"outValue\": 1.6653345369377348e-16, \"simIndex\": 49.0, \"features\": {\"0\": {\"effect\": -0.04083513346897343, \"value\": 6.7}, \"1\": {\"effect\": -0.0028264165011569293, \"value\": 2.5}, \"2\": {\"effect\": -0.1855441134370171, \"value\": 5.8}, \"3\": {\"effect\": -0.11409433659285251, \"value\": 1.8}}}, {\"outValue\": 0.99, \"simIndex\": 5.0, \"features\": {\"0\": {\"effect\": 0.08743031345081914, \"value\": 5.4}, \"1\": {\"effect\": 0.0052675167273188, \"value\": 3.4}, \"2\": {\"effect\": 0.3397428576723892, \"value\": 1.7}, \"3\": {\"effect\": 0.21425931214947277, \"value\": 0.2}}}, {\"outValue\": 1.0, \"simIndex\": 21.0, \"features\": {\"0\": {\"effect\": 0.11007073622249192, \"value\": 5.1}, \"1\": {\"effect\": 0.002994533923085996, \"value\": 3.3}, \"2\": {\"effect\": 0.3362314489422305, \"value\": 1.7}, \"3\": {\"effect\": 0.2074032809121915, \"value\": 0.5}}}, {\"outValue\": 1.1102230246251565e-16, \"simIndex\": 56.0, \"features\": {\"0\": {\"effect\": -0.042184103847723226, \"value\": 6.1}, \"1\": {\"effect\": 3.703351560191097e-05, \"value\": 3.0}, \"2\": {\"effect\": -0.18698891714910024, \"value\": 4.9}, \"3\": {\"effect\": -0.11416401251877843, \"value\": 1.8}}}, {\"outValue\": 1.1102230246251565e-16, \"simIndex\": 73.0, \"features\": {\"0\": {\"effect\": -0.04166761589606738, \"value\": 7.7}, \"1\": {\"effect\": 0.007784539985776292, \"value\": 3.8}, \"2\": {\"effect\": -0.1929851082265413, \"value\": 6.7}, \"3\": {\"effect\": -0.1164318158631676, \"value\": 2.2}}}, {\"outValue\": 1.1102230246251565e-16, \"simIndex\": 52.0, \"features\": {\"0\": {\"effect\": -0.042184103847723226, \"value\": 6.9}, \"1\": {\"effect\": 3.703351560191097e-05, \"value\": 3.1}, \"2\": {\"effect\": -0.18698891714910024, \"value\": 5.1}, \"3\": {\"effect\": -0.11416401251877843, \"value\": 2.3}}}, {\"outValue\": 1.0, \"simIndex\": 33.0, \"features\": {\"0\": {\"effect\": 0.11124720681072722, \"value\": 4.3}, \"1\": {\"effect\": 0.0018180633348507014, \"value\": 3.0}, \"2\": {\"effect\": 0.3362314489422305, \"value\": 1.1}, \"3\": {\"effect\": 0.2074032809121915, \"value\": 0.1}}}, {\"outValue\": 1.0, \"simIndex\": 29.0, \"features\": {\"0\": {\"effect\": 0.11007073622249192, \"value\": 4.9}, \"1\": {\"effect\": 0.002994533923085996, \"value\": 3.1}, \"2\": {\"effect\": 0.3362314489422305, \"value\": 1.5}, \"3\": {\"effect\": 0.2074032809121915, \"value\": 0.1}}}, {\"outValue\": 1.0, \"simIndex\": 20.0, \"features\": {\"0\": {\"effect\": 0.11007073622249192, \"value\": 4.8}, \"1\": {\"effect\": 0.002994533923085996, \"value\": 3.0}, \"2\": {\"effect\": 0.3362314489422305, \"value\": 1.4}, \"3\": {\"effect\": 0.2074032809121915, \"value\": 0.3}}}, {\"outValue\": 5.551115123125783e-17, \"simIndex\": 92.0, \"features\": {\"0\": {\"effect\": -0.020348159026111947, \"value\": 5.6}, \"1\": {\"effect\": -0.0019576789112065365, \"value\": 3.0}, \"2\": {\"effect\": -0.19038492038462318, \"value\": 4.5}, \"3\": {\"effect\": -0.13060924167805835, \"value\": 1.5}}}], \"plot_cmap\": \"RdBu\", \"ordering_keys\": null, \"ordering_keys_time_format\": null}),\n",
       "    document.getElementById('i95GUZ5Q3OBQEGUJV1H80')\n",
       "  );\n",
       "</script>"
      ],
      "text/plain": [
       "<shap.plots._force.AdditiveForceArrayVisualizer at 0x1a35baa9190>"
      ]
     },
     "execution_count": 10,
     "metadata": {},
     "output_type": "execute_result"
    }
   ],
   "source": [
    "all_shap_values = explainer.shap_values(x_train)\n",
    "shap.force_plot(explainer.expected_value[0], all_shap_values[0], features=x_train)"
   ]
  },
  {
   "cell_type": "markdown",
   "id": "ba0b51dd",
   "metadata": {},
   "source": [
    "Shap explainer kullanarak bir eğitim veri setindeki tüm örnekler için modelin nasıl karar verdiğini açıklar. "
   ]
  },
  {
   "cell_type": "code",
   "execution_count": 11,
   "id": "83141f53",
   "metadata": {},
   "outputs": [
    {
     "data": {
      "image/png": "[encoded data removed]",
      "text/plain": [
       "<Figure size 576x223.2 with 2 Axes>"
      ]
     },
     "metadata": {
      "needs_background": "light"
     },
     "output_type": "display_data"
    }
   ],
   "source": [
    "shap.summary_plot(all_shap_values[0], features=x_train, feature_names=features)\n"
   ]
  }
 ],
 "metadata": {
  "kernelspec": {
   "display_name": "Python 3 (ipykernel)",
   "language": "python",
   "name": "python3"
  },
  "language_info": {
   "codemirror_mode": {
    "name": "ipython",
    "version": 3
   },
   "file_extension": ".py",
   "mimetype": "text/x-python",
   "name": "python",
   "nbconvert_exporter": "python",
   "pygments_lexer": "ipython3",
   "version": "3.9.12"
  }
 },
 "nbformat": 4,
 "nbformat_minor": 5
}
