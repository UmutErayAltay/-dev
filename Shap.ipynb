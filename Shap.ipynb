{
 "cells": [
  {
   "cell_type": "code",
   "execution_count": 1,
   "id": "a845cfb5",
   "metadata": {},
   "outputs": [],
   "source": [
    "# Pandas\n",
    "import pandas as pd\n",
    "\n",
    "# Some sklearn tools for preprocessing\n",
    "from sklearn.model_selection import train_test_split\n",
    "from sklearn.metrics import accuracy_score\n",
    "\n",
    "# Tree based algorithms\n",
    "from sklearn.ensemble import RandomForestClassifier\n",
    "\n",
    "# XAI\n",
    "import shap"
   ]
  },
  {
   "cell_type": "code",
   "execution_count": 2,
   "id": "7b19a568",
   "metadata": {},
   "outputs": [
    {
     "data": {
      "text/html": [
       "<div>\n",
       "<style scoped>\n",
       "    .dataframe tbody tr th:only-of-type {\n",
       "        vertical-align: middle;\n",
       "    }\n",
       "\n",
       "    .dataframe tbody tr th {\n",
       "        vertical-align: top;\n",
       "    }\n",
       "\n",
       "    .dataframe thead th {\n",
       "        text-align: right;\n",
       "    }\n",
       "</style>\n",
       "<table border=\"1\" class=\"dataframe\">\n",
       "  <thead>\n",
       "    <tr style=\"text-align: right;\">\n",
       "      <th></th>\n",
       "      <th>Id</th>\n",
       "      <th>SepalLengthCm</th>\n",
       "      <th>SepalWidthCm</th>\n",
       "      <th>PetalLengthCm</th>\n",
       "      <th>PetalWidthCm</th>\n",
       "      <th>Species</th>\n",
       "    </tr>\n",
       "  </thead>\n",
       "  <tbody>\n",
       "    <tr>\n",
       "      <th>0</th>\n",
       "      <td>1</td>\n",
       "      <td>5.1</td>\n",
       "      <td>3.5</td>\n",
       "      <td>1.4</td>\n",
       "      <td>0.2</td>\n",
       "      <td>Iris-setosa</td>\n",
       "    </tr>\n",
       "    <tr>\n",
       "      <th>1</th>\n",
       "      <td>2</td>\n",
       "      <td>4.9</td>\n",
       "      <td>3.0</td>\n",
       "      <td>1.4</td>\n",
       "      <td>0.2</td>\n",
       "      <td>Iris-setosa</td>\n",
       "    </tr>\n",
       "    <tr>\n",
       "      <th>2</th>\n",
       "      <td>3</td>\n",
       "      <td>4.7</td>\n",
       "      <td>3.2</td>\n",
       "      <td>1.3</td>\n",
       "      <td>0.2</td>\n",
       "      <td>Iris-setosa</td>\n",
       "    </tr>\n",
       "    <tr>\n",
       "      <th>3</th>\n",
       "      <td>4</td>\n",
       "      <td>4.6</td>\n",
       "      <td>3.1</td>\n",
       "      <td>1.5</td>\n",
       "      <td>0.2</td>\n",
       "      <td>Iris-setosa</td>\n",
       "    </tr>\n",
       "    <tr>\n",
       "      <th>4</th>\n",
       "      <td>5</td>\n",
       "      <td>5.0</td>\n",
       "      <td>3.6</td>\n",
       "      <td>1.4</td>\n",
       "      <td>0.2</td>\n",
       "      <td>Iris-setosa</td>\n",
       "    </tr>\n",
       "  </tbody>\n",
       "</table>\n",
       "</div>"
      ],
      "text/plain": [
       "   Id  SepalLengthCm  SepalWidthCm  PetalLengthCm  PetalWidthCm      Species\n",
       "0   1            5.1           3.5            1.4           0.2  Iris-setosa\n",
       "1   2            4.9           3.0            1.4           0.2  Iris-setosa\n",
       "2   3            4.7           3.2            1.3           0.2  Iris-setosa\n",
       "3   4            4.6           3.1            1.5           0.2  Iris-setosa\n",
       "4   5            5.0           3.6            1.4           0.2  Iris-setosa"
      ]
     },
     "execution_count": 2,
     "metadata": {},
     "output_type": "execute_result"
    }
   ],
   "source": [
    "names = ['Id','SepalLengthCm','SepalWidthCm','PetalLengthCm','PetalWidthCm','Species']\n",
    "features = names[:-1]\n",
    "df = pd.read_csv(\"veriler/iris.csv\")\n",
    "df.head()"
   ]
  },
  {
   "cell_type": "code",
   "execution_count": 3,
   "id": "c2dd6759",
   "metadata": {},
   "outputs": [
    {
     "data": {
      "text/plain": [
       "Species\n",
       "Iris-setosa        50\n",
       "Iris-versicolor    50\n",
       "Iris-virginica     50\n",
       "dtype: int64"
      ]
     },
     "execution_count": 3,
     "metadata": {},
     "output_type": "execute_result"
    }
   ],
   "source": [
    "count_class = df.groupby(\"Species\").size()\n",
    "count_class\n"
   ]
  },
  {
   "cell_type": "code",
   "execution_count": 4,
   "id": "051592c7",
   "metadata": {},
   "outputs": [],
   "source": [
    "X = df.drop([\"Species\",\"Id\"], axis=1)\n",
    "Y = df[\"Species\"]\n",
    "x_train, x_test, y_train, y_test = train_test_split(X, Y, test_size=0.33)"
   ]
  },
  {
   "cell_type": "markdown",
   "id": "66cfa27f",
   "metadata": {},
   "source": [
    "Random Forest algoritmasını eğitiyoruz."
   ]
  },
  {
   "cell_type": "code",
   "execution_count": 5,
   "id": "4a3045ad",
   "metadata": {},
   "outputs": [],
   "source": [
    "rf_model = RandomForestClassifier(n_estimators=100).fit(x_train, y_train)"
   ]
  },
  {
   "cell_type": "markdown",
   "id": "3c1bf247",
   "metadata": {},
   "source": [
    "Algoritmamızın doğruluğunu ölçüyoruz."
   ]
  },
  {
   "cell_type": "code",
   "execution_count": 6,
   "id": "f9108b35",
   "metadata": {},
   "outputs": [
    {
     "name": "stdout",
     "output_type": "stream",
     "text": [
      "Precisión:  90.0 %\n"
     ]
    }
   ],
   "source": [
    "y_predicted = rf_model.predict(x_test)\n",
    "accuracy = accuracy_score(y_test, y_predicted)\n",
    "print(\"Precisión: \",  accuracy*100, \"%\")"
   ]
  },
  {
   "cell_type": "markdown",
   "id": "26c4090b",
   "metadata": {},
   "source": [
    "Random forest modelini kullanarak bir Shap explainer nesnesi oluşturur.Daha sonra, shap. TreeExplainer fonksiyonu kullanılarak bir Shap explainer nesnesi oluşturulur. Bu nesne, Random Forest modelinin nasıl karar verdiğini anlamak için kullanılabilir."
   ]
  },
  {
   "cell_type": "code",
   "execution_count": 7,
   "id": "7e6c48c9",
   "metadata": {},
   "outputs": [],
   "source": [
    "explainer = shap.TreeExplainer(rf_model)"
   ]
  },
  {
   "cell_type": "markdown",
   "id": "26641912",
   "metadata": {},
   "source": [
    "Test veri setindeki ilk satırı ve bu satırdaki beklenen sınıfı ekrana yazdırılır.                                   \n",
    "Aynı zamanda, seçilen satırdaki beklenen sınıf da y_test veri setinden alınarak yazdırılır."
   ]
  },
  {
   "cell_type": "code",
   "execution_count": 8,
   "id": "36857362",
   "metadata": {},
   "outputs": [
    {
     "name": "stdout",
     "output_type": "stream",
     "text": [
      "SepalLengthCm    6.7\n",
      "SepalWidthCm     2.5\n",
      "PetalLengthCm    5.8\n",
      "PetalWidthCm     1.8\n",
      "Name: 108, dtype: float64\n",
      "Expected:  Iris-virginica\n"
     ]
    }
   ],
   "source": [
    "observation = x_test.iloc[0]\n",
    "print(x_test.iloc[0])\n",
    "print(\"Expected: \", y_test.iloc[0])"
   ]
  },
  {
   "cell_type": "markdown",
   "id": "8dfaff23",
   "metadata": {},
   "source": [
    "Shap explainer kullanarak bir örnek için modelin nasıl karar verdiğini açıklar. Öncelikle, explainer.shap_values fonksiyonu kullanılarak seçilen örnek için modelin nasıl karar verdiğini açıklayan Shap değerleri elde edilir. Daha sonra, shap.force_plot fonksiyonu kullanılarak bu değerler kullanılarak bir görsel oluşturulur. Görsel, seçilen örnek için modelin nasıl karar verdiğini gösterir."
   ]
  },
  {
   "cell_type": "code",
   "execution_count": 9,
   "id": "30876754",
   "metadata": {},
   "outputs": [
    {
     "data": {
      "text/html": [
       "\n",
       "<div id='iP5GRTGFNGY1R3HHQEJ6D'>\n",
       "<div style='color: #900; text-align: center;'>\n",
       "  <b>Visualization omitted, Javascript library not loaded!</b><br>\n",
       "  Have you run `initjs()` in this notebook? If this notebook was from another\n",
       "  user you must also trust this notebook (File -> Trust notebook). If you are viewing\n",
       "  this notebook on github the Javascript has been stripped for security. If you are using\n",
       "  JupyterLab this error is because a JupyterLab extension has not yet been written.\n",
       "</div></div>\n",
       " <script>\n",
       "   if (window.SHAP) SHAP.ReactDom.render(\n",
       "    SHAP.React.createElement(SHAP.AdditiveForceVisualizer, {\"outNames\": [\"f(x)\"], \"baseValue\": 0.39580000000000004, \"outValue\": 1.1102230246251565e-16, \"link\": \"identity\", \"featureNames\": [\"SepalLengthCm\", \"SepalWidthCm\", \"PetalLengthCm\", \"PetalWidthCm\"], \"features\": {\"0\": {\"effect\": -0.020000061119591083, \"value\": 6.7}, \"1\": {\"effect\": -0.005671536796536797, \"value\": 2.5}, \"2\": {\"effect\": -0.19653791993460984, \"value\": 5.8}, \"3\": {\"effect\": -0.1735904821492622, \"value\": 1.8}}, \"plot_cmap\": \"RdBu\", \"labelMargin\": 20}),\n",
       "    document.getElementById('iP5GRTGFNGY1R3HHQEJ6D')\n",
       "  );\n",
       "</script>"
      ],
      "text/plain": [
       "<shap.plots._force.AdditiveForceVisualizer at 0x19fbe67a100>"
      ]
     },
     "execution_count": 9,
     "metadata": {},
     "output_type": "execute_result"
    }
   ],
   "source": [
    "shap_values = explainer.shap_values(observation)\n",
    "shap.force_plot(explainer.expected_value[0], shap_values[0], features=observation)"
   ]
  },
  {
   "cell_type": "markdown",
   "id": "c2335c91",
   "metadata": {},
   "source": [
    "Shap explainer kullanarak bir eğitim veri setindeki tüm örnekler için modelin nasıl karar verdiğini açıklar."
   ]
  },
  {
   "cell_type": "code",
   "execution_count": 10,
   "id": "361b27aa",
   "metadata": {},
   "outputs": [
    {
     "data": {
      "text/html": [
       "\n",
       "<div id='iGE6BOST0WRN7DK03HFC0'>\n",
       "<div style='color: #900; text-align: center;'>\n",
       "  <b>Visualization omitted, Javascript library not loaded!</b><br>\n",
       "  Have you run `initjs()` in this notebook? If this notebook was from another\n",
       "  user you must also trust this notebook (File -> Trust notebook). If you are viewing\n",
       "  this notebook on github the Javascript has been stripped for security. If you are using\n",
       "  JupyterLab this error is because a JupyterLab extension has not yet been written.\n",
       "</div></div>\n",
       " <script>\n",
       "   if (window.SHAP) SHAP.ReactDom.render(\n",
       "    SHAP.React.createElement(SHAP.AdditiveForceArrayVisualizer, {\"outNames\": [\"f(x)\"], \"baseValue\": 0.39580000000000004, \"link\": \"identity\", \"featureNames\": [\"SepalLengthCm\", \"SepalWidthCm\", \"PetalLengthCm\", \"PetalWidthCm\"], \"explanations\": [{\"outValue\": 1.1102230246251565e-16, \"simIndex\": 48.0, \"features\": {\"0\": {\"effect\": -0.02599470397673394, \"value\": 6.8}, \"1\": {\"effect\": 0.0008677489177489177, \"value\": 3.2}, \"2\": {\"effect\": -0.1972450627917527, \"value\": 5.9}, \"3\": {\"effect\": -0.1734279821492622, \"value\": 2.3}}}, {\"outValue\": 1.1102230246251565e-16, \"simIndex\": 41.0, \"features\": {\"0\": {\"effect\": -0.026287753519783484, \"value\": 7.7}, \"1\": {\"effect\": 0.004574699374699375, \"value\": 3.8}, \"2\": {\"effect\": -0.19905869915538904, \"value\": 6.7}, \"3\": {\"effect\": -0.17502824669952674, \"value\": 2.2}}}, {\"outValue\": 5.551115123125783e-17, \"simIndex\": 92.0, \"features\": {\"0\": {\"effect\": -0.008807423251591858, \"value\": 5.7}, \"1\": {\"effect\": -0.007466970133999121, \"value\": 2.9}, \"2\": {\"effect\": -0.2019519910247472, \"value\": 4.2}, \"3\": {\"effect\": -0.1775736155896618, \"value\": 1.3}}}, {\"outValue\": 1.1102230246251565e-16, \"simIndex\": 99.0, \"features\": {\"0\": {\"effect\": 0.018709426593556164, \"value\": 5.5}, \"1\": {\"effect\": -0.014344593004375617, \"value\": 2.4}, \"2\": {\"effect\": -0.20682159136194797, \"value\": 3.8}, \"3\": {\"effect\": -0.19334324222723254, \"value\": 1.1}}}, {\"outValue\": 1.0, \"simIndex\": 30.0, \"features\": {\"0\": {\"effect\": 0.04993386233028642, \"value\": 4.4}, \"1\": {\"effect\": 0.00333425129946869, \"value\": 3.2}, \"2\": {\"effect\": 0.296057415919336, \"value\": 1.3}, \"3\": {\"effect\": 0.2548744704509089, \"value\": 0.2}}}, {\"outValue\": 1.1102230246251565e-16, \"simIndex\": 86.0, \"features\": {\"0\": {\"effect\": -0.00554086810518164, \"value\": 5.7}, \"1\": {\"effect\": -0.010066835941835946, \"value\": 2.5}, \"2\": {\"effect\": -0.19776014215683207, \"value\": 5.0}, \"3\": {\"effect\": -0.1824321537961503, \"value\": 2.0}}}, {\"outValue\": 5.551115123125783e-17, \"simIndex\": 97.0, \"features\": {\"0\": {\"effect\": 0.027376354868612278, \"value\": 5.0}, \"1\": {\"effect\": -0.019041562701345313, \"value\": 2.0}, \"2\": {\"effect\": -0.20616233716708382, \"value\": 3.5}, \"3\": {\"effect\": -0.19797245500018312, \"value\": 1.0}}}, {\"outValue\": 1.1102230246251565e-16, \"simIndex\": 68.0, \"features\": {\"0\": {\"effect\": -0.02576125912314416, \"value\": 6.7}, \"1\": {\"effect\": -3.238527441425972e-05, \"value\": 3.1}, \"2\": {\"effect\": -0.20143691165966782, \"value\": 4.4}, \"3\": {\"effect\": -0.16856944394277373, \"value\": 1.4}}}, {\"outValue\": 1.1102230246251565e-16, \"simIndex\": 49.0, \"features\": {\"0\": {\"effect\": -0.02599470397673394, \"value\": 6.3}, \"1\": {\"effect\": 0.0008677489177489177, \"value\": 3.4}, \"2\": {\"effect\": -0.1972450627917527, \"value\": 5.6}, \"3\": {\"effect\": -0.1734279821492622, \"value\": 2.4}}}, {\"outValue\": 1.1102230246251565e-16, \"simIndex\": 50.0, \"features\": {\"0\": {\"effect\": -0.02599470397673394, \"value\": 6.9}, \"1\": {\"effect\": 0.0008677489177489177, \"value\": 3.1}, \"2\": {\"effect\": -0.1972450627917527, \"value\": 5.4}, \"3\": {\"effect\": -0.1734279821492622, \"value\": 2.1}}}, {\"outValue\": 1.1102230246251565e-16, \"simIndex\": 47.0, \"features\": {\"0\": {\"effect\": -0.02599470397673394, \"value\": 7.2}, \"1\": {\"effect\": 0.0008677489177489177, \"value\": 3.2}, \"2\": {\"effect\": -0.1972450627917527, \"value\": 6.0}, \"3\": {\"effect\": -0.1734279821492622, \"value\": 1.8}}}, {\"outValue\": 1.1102230246251565e-16, \"simIndex\": 76.0, \"features\": {\"0\": {\"effect\": -0.019433282932667967, \"value\": 6.1}, \"1\": {\"effect\": -0.006905004322033308, \"value\": 2.8}, \"2\": {\"effect\": -0.2007297688025249, \"value\": 4.7}, \"3\": {\"effect\": -0.16873194394277374, \"value\": 1.2}}}, {\"outValue\": 1.0, \"simIndex\": 15.0, \"features\": {\"0\": {\"effect\": 0.04480052899695308, \"value\": 5.1}, \"1\": {\"effect\": 0.007150917966135358, \"value\": 3.5}, \"2\": {\"effect\": 0.29670741591933597, \"value\": 1.4}, \"3\": {\"effect\": 0.25554113711757553, \"value\": 0.3}}}, {\"outValue\": 0.9699999999999999, \"simIndex\": 40.0, \"features\": {\"0\": {\"effect\": 0.03997374328266736, \"value\": 4.5}, \"1\": {\"effect\": -0.019459796319578934, \"value\": 2.3}, \"2\": {\"effect\": 0.2958240825860026, \"value\": 1.3}, \"3\": {\"effect\": 0.2578619704509088, \"value\": 0.3}}}, {\"outValue\": 1.1102230246251565e-16, \"simIndex\": 74.0, \"features\": {\"0\": {\"effect\": -0.019766616266001298, \"value\": 6.5}, \"1\": {\"effect\": -0.006571670988699975, \"value\": 2.8}, \"2\": {\"effect\": -0.2007297688025249, \"value\": 4.6}, \"3\": {\"effect\": -0.16873194394277374, \"value\": 1.5}}}, {\"outValue\": 1.0, \"simIndex\": 16.0, \"features\": {\"0\": {\"effect\": 0.04480052899695308, \"value\": 5.0}, \"1\": {\"effect\": 0.007150917966135358, \"value\": 3.5}, \"2\": {\"effect\": 0.29670741591933597, \"value\": 1.3}, \"3\": {\"effect\": 0.25554113711757553, \"value\": 0.3}}}, {\"outValue\": 1.0, \"simIndex\": 31.0, \"features\": {\"0\": {\"effect\": 0.04993386233028642, \"value\": 5.1}, \"1\": {\"effect\": 0.00333425129946869, \"value\": 3.4}, \"2\": {\"effect\": 0.296057415919336, \"value\": 1.5}, \"3\": {\"effect\": 0.2548744704509089, \"value\": 0.2}}}, {\"outValue\": 1.1102230246251565e-16, \"simIndex\": 71.0, \"features\": {\"0\": {\"effect\": -0.0196316684977202, \"value\": 6.0}, \"1\": {\"effect\": -0.006576609260304913, \"value\": 2.7}, \"2\": {\"effect\": -0.20187745711161675, \"value\": 5.1}, \"3\": {\"effect\": -0.1677142651303581, \"value\": 1.6}}}, {\"outValue\": 1.1102230246251565e-16, \"simIndex\": 62.0, \"features\": {\"0\": {\"effect\": -0.022933282932667966, \"value\": 6.0}, \"1\": {\"effect\": -0.0034050043220333085, \"value\": 2.9}, \"2\": {\"effect\": -0.2007297688025249, \"value\": 4.5}, \"3\": {\"effect\": -0.16873194394277374, \"value\": 1.5}}}, {\"outValue\": 1.0, \"simIndex\": 32.0, \"features\": {\"0\": {\"effect\": 0.04993386233028642, \"value\": 4.6}, \"1\": {\"effect\": 0.00333425129946869, \"value\": 3.2}, \"2\": {\"effect\": 0.296057415919336, \"value\": 1.4}, \"3\": {\"effect\": 0.2548744704509089, \"value\": 0.2}}}, {\"outValue\": 1.0, \"simIndex\": 11.0, \"features\": {\"0\": {\"effect\": 0.04405052899695308, \"value\": 5.1}, \"1\": {\"effect\": 0.007900917966135356, \"value\": 3.8}, \"2\": {\"effect\": 0.29670741591933597, \"value\": 1.6}, \"3\": {\"effect\": 0.25554113711757553, \"value\": 0.2}}}, {\"outValue\": 0.99, \"simIndex\": 3.0, \"features\": {\"0\": {\"effect\": 0.0012319967316031988, \"value\": 5.7}, \"1\": {\"effect\": 0.013932460990432003, \"value\": 4.4}, \"2\": {\"effect\": 0.31094206779332867, \"value\": 1.5}, \"3\": {\"effect\": 0.26809347448463605, \"value\": 0.4}}}, {\"outValue\": 5.551115123125783e-17, \"simIndex\": 70.0, \"features\": {\"0\": {\"effect\": -0.025903234431786135, \"value\": 6.9}, \"1\": {\"effect\": 0.00029600978731413524, \"value\": 3.1}, \"2\": {\"effect\": -0.20231280509696475, \"value\": 4.9}, \"3\": {\"effect\": -0.16787997025856322, \"value\": 1.5}}}, {\"outValue\": 1.1102230246251565e-16, \"simIndex\": 51.0, \"features\": {\"0\": {\"effect\": -0.02599470397673394, \"value\": 6.3}, \"1\": {\"effect\": 0.0008677489177489177, \"value\": 3.3}, \"2\": {\"effect\": -0.1972450627917527, \"value\": 6.0}, \"3\": {\"effect\": -0.1734279821492622, \"value\": 2.5}}}, {\"outValue\": 1.0, \"simIndex\": 19.0, \"features\": {\"0\": {\"effect\": 0.04473298360701964, \"value\": 5.4}, \"1\": {\"effect\": 0.003031220996438387, \"value\": 3.4}, \"2\": {\"effect\": 0.29990105486745255, \"value\": 1.7}, \"3\": {\"effect\": 0.25653474052908937, \"value\": 0.2}}}, {\"outValue\": 1.1102230246251565e-16, \"simIndex\": 82.0, \"features\": {\"0\": {\"effect\": -0.019943650863180826, \"value\": 6.2}, \"1\": {\"effect\": -0.005671536796536797, \"value\": 2.8}, \"2\": {\"effect\": -0.196266125062815, \"value\": 4.8}, \"3\": {\"effect\": -0.17391868727746734, \"value\": 1.8}}}, {\"outValue\": 1.1102230246251565e-16, \"simIndex\": 80.0, \"features\": {\"0\": {\"effect\": -0.020000061119591083, \"value\": 6.3}, \"1\": {\"effect\": -0.005671536796536797, \"value\": 2.5}, \"2\": {\"effect\": -0.19653791993460984, \"value\": 5.0}, \"3\": {\"effect\": -0.1735904821492622, \"value\": 1.9}}}, {\"outValue\": 5.551115123125783e-17, \"simIndex\": 89.0, \"features\": {\"0\": {\"effect\": -0.00530742325159186, \"value\": 5.6}, \"1\": {\"effect\": -0.01096697013399912, \"value\": 2.5}, \"2\": {\"effect\": -0.2019519910247472, \"value\": 3.9}, \"3\": {\"effect\": -0.1775736155896618, \"value\": 1.1}}}, {\"outValue\": 1.1102230246251565e-16, \"simIndex\": 63.0, \"features\": {\"0\": {\"effect\": -0.022933282932667966, \"value\": 6.1}, \"1\": {\"effect\": -0.0034050043220333085, \"value\": 2.9}, \"2\": {\"effect\": -0.2007297688025249, \"value\": 4.7}, \"3\": {\"effect\": -0.16873194394277374, \"value\": 1.4}}}, {\"outValue\": 5.551115123125783e-17, \"simIndex\": 96.0, \"features\": {\"0\": {\"effect\": 0.027376354868612278, \"value\": 5.0}, \"1\": {\"effect\": -0.019041562701345313, \"value\": 2.3}, \"2\": {\"effect\": -0.20616233716708382, \"value\": 3.3}, \"3\": {\"effect\": -0.19797245500018312, \"value\": 1.0}}}, {\"outValue\": 1.0, \"simIndex\": 29.0, \"features\": {\"0\": {\"effect\": 0.04993386233028642, \"value\": 4.6}, \"1\": {\"effect\": 0.00333425129946869, \"value\": 3.1}, \"2\": {\"effect\": 0.296057415919336, \"value\": 1.5}, \"3\": {\"effect\": 0.2548744704509089, \"value\": 0.2}}}, {\"outValue\": 1.0, \"simIndex\": 33.0, \"features\": {\"0\": {\"effect\": 0.04993386233028642, \"value\": 4.8}, \"1\": {\"effect\": 0.00333425129946869, \"value\": 3.4}, \"2\": {\"effect\": 0.296057415919336, \"value\": 1.6}, \"3\": {\"effect\": 0.2548744704509089, \"value\": 0.2}}}, {\"outValue\": 1.0, \"simIndex\": 17.0, \"features\": {\"0\": {\"effect\": 0.04480052899695308, \"value\": 5.2}, \"1\": {\"effect\": 0.007150917966135358, \"value\": 3.5}, \"2\": {\"effect\": 0.29670741591933597, \"value\": 1.5}, \"3\": {\"effect\": 0.25554113711757553, \"value\": 0.2}}}, {\"outValue\": 1.0, \"simIndex\": 10.0, \"features\": {\"0\": {\"effect\": 0.04405052899695308, \"value\": 4.6}, \"1\": {\"effect\": 0.007900917966135356, \"value\": 3.6}, \"2\": {\"effect\": 0.29670741591933597, \"value\": 1.0}, \"3\": {\"effect\": 0.25554113711757553, \"value\": 0.2}}}, {\"outValue\": 1.0, \"simIndex\": 9.0, \"features\": {\"0\": {\"effect\": 0.04405052899695308, \"value\": 5.1}, \"1\": {\"effect\": 0.007900917966135356, \"value\": 3.8}, \"2\": {\"effect\": 0.29670741591933597, \"value\": 1.9}, \"3\": {\"effect\": 0.25554113711757553, \"value\": 0.4}}}, {\"outValue\": 5.551115123125783e-17, \"simIndex\": 73.0, \"features\": {\"0\": {\"effect\": -0.019908591574643274, \"value\": 6.3}, \"1\": {\"effect\": -0.00624327592697158, \"value\": 2.5}, \"2\": {\"effect\": -0.2016056622398219, \"value\": 4.9}, \"3\": {\"effect\": -0.16804247025856323, \"value\": 1.5}}}, {\"outValue\": 1.0, \"simIndex\": 28.0, \"features\": {\"0\": {\"effect\": 0.04993386233028642, \"value\": 4.7}, \"1\": {\"effect\": 0.00333425129946869, \"value\": 3.2}, \"2\": {\"effect\": 0.296057415919336, \"value\": 1.6}, \"3\": {\"effect\": 0.2548744704509089, \"value\": 0.2}}}, {\"outValue\": 5.551115123125783e-17, \"simIndex\": 65.0, \"features\": {\"0\": {\"effect\": -0.023640425789810824, \"value\": 6.1}, \"1\": {\"effect\": -0.0019907186077475934, \"value\": 3.0}, \"2\": {\"effect\": -0.20143691165966782, \"value\": 4.6}, \"3\": {\"effect\": -0.16873194394277374, \"value\": 1.4}}}, {\"outValue\": 1.0, \"simIndex\": 34.0, \"features\": {\"0\": {\"effect\": 0.04993386233028642, \"value\": 4.8}, \"1\": {\"effect\": 0.00333425129946869, \"value\": 3.1}, \"2\": {\"effect\": 0.296057415919336, \"value\": 1.6}, \"3\": {\"effect\": 0.2548744704509089, \"value\": 0.2}}}, {\"outValue\": 1.1102230246251565e-16, \"simIndex\": 69.0, \"features\": {\"0\": {\"effect\": -0.02576125912314416, \"value\": 6.7}, \"1\": {\"effect\": -3.238527441425972e-05, \"value\": 3.1}, \"2\": {\"effect\": -0.20143691165966782, \"value\": 4.7}, \"3\": {\"effect\": -0.16856944394277373, \"value\": 1.5}}}, {\"outValue\": 1.1102230246251565e-16, \"simIndex\": 46.0, \"features\": {\"0\": {\"effect\": -0.02599470397673394, \"value\": 6.4}, \"1\": {\"effect\": 0.0008677489177489177, \"value\": 3.1}, \"2\": {\"effect\": -0.1972450627917527, \"value\": 5.5}, \"3\": {\"effect\": -0.1734279821492622, \"value\": 1.8}}}, {\"outValue\": 1.1102230246251565e-16, \"simIndex\": 57.0, \"features\": {\"0\": {\"effect\": -0.02420720397673394, \"value\": 7.7}, \"1\": {\"effect\": -0.0007572510822510826, \"value\": 3.0}, \"2\": {\"effect\": -0.1972450627917527, \"value\": 6.1}, \"3\": {\"effect\": -0.1735904821492622, \"value\": 2.3}}}, {\"outValue\": 0.01000000000000012, \"simIndex\": 87.0, \"features\": {\"0\": {\"effect\": -0.004749871058793766, \"value\": 5.8}, \"1\": {\"effect\": -0.006905004322033308, \"value\": 2.7}, \"2\": {\"effect\": -0.2007297688025249, \"value\": 3.9}, \"3\": {\"effect\": -0.17341535581664796, \"value\": 1.2}}}, {\"outValue\": 1.1102230246251565e-16, \"simIndex\": 94.0, \"features\": {\"0\": {\"effect\": -0.007943137537306143, \"value\": 5.6}, \"1\": {\"effect\": -0.004481255848284835, \"value\": 3.0}, \"2\": {\"effect\": -0.20580199102474717, \"value\": 4.1}, \"3\": {\"effect\": -0.1775736155896618, \"value\": 1.3}}}, {\"outValue\": 1.1102230246251565e-16, \"simIndex\": 52.0, \"features\": {\"0\": {\"effect\": -0.02599470397673394, \"value\": 6.9}, \"1\": {\"effect\": 0.0008677489177489177, \"value\": 3.2}, \"2\": {\"effect\": -0.1972450627917527, \"value\": 5.7}, \"3\": {\"effect\": -0.1734279821492622, \"value\": 2.3}}}, {\"outValue\": 5.551115123125783e-17, \"simIndex\": 66.0, \"features\": {\"0\": {\"effect\": -0.023640425789810824, \"value\": 5.9}, \"1\": {\"effect\": -0.0019907186077475934, \"value\": 3.0}, \"2\": {\"effect\": -0.20143691165966782, \"value\": 4.2}, \"3\": {\"effect\": -0.16873194394277374, \"value\": 1.5}}}, {\"outValue\": 1.1102230246251565e-16, \"simIndex\": 59.0, \"features\": {\"0\": {\"effect\": -0.02381746038699035, \"value\": 6.0}, \"1\": {\"effect\": -0.001090584415584416, \"value\": 3.0}, \"2\": {\"effect\": -0.19697326791995784, \"value\": 4.8}, \"3\": {\"effect\": -0.17391868727746734, \"value\": 1.8}}}, {\"outValue\": 1.1102230246251565e-16, \"simIndex\": 56.0, \"features\": {\"0\": {\"effect\": -0.02420720397673394, \"value\": 7.1}, \"1\": {\"effect\": -0.0007572510822510826, \"value\": 3.0}, \"2\": {\"effect\": -0.1972450627917527, \"value\": 5.9}, \"3\": {\"effect\": -0.1735904821492622, \"value\": 2.1}}}, {\"outValue\": 0.9999999999999999, \"simIndex\": 22.0, \"features\": {\"0\": {\"effect\": 0.04917136233028642, \"value\": 4.4}, \"1\": {\"effect\": 0.001109251299468689, \"value\": 3.0}, \"2\": {\"effect\": 0.296057415919336, \"value\": 1.3}, \"3\": {\"effect\": 0.2578619704509088, \"value\": 0.2}}}, {\"outValue\": 1.1102230246251565e-16, \"simIndex\": 42.0, \"features\": {\"0\": {\"effect\": -0.026287753519783484, \"value\": 7.2}, \"1\": {\"effect\": 0.004574699374699375, \"value\": 3.6}, \"2\": {\"effect\": -0.19905869915538904, \"value\": 6.1}, \"3\": {\"effect\": -0.17502824669952674, \"value\": 2.5}}}, {\"outValue\": 1.0, \"simIndex\": 12.0, \"features\": {\"0\": {\"effect\": 0.04405052899695308, \"value\": 5.0}, \"1\": {\"effect\": 0.007900917966135356, \"value\": 3.6}, \"2\": {\"effect\": 0.29670741591933597, \"value\": 1.4}, \"3\": {\"effect\": 0.25554113711757553, \"value\": 0.2}}}, {\"outValue\": 1.1102230246251565e-16, \"simIndex\": 72.0, \"features\": {\"0\": {\"effect\": -0.0196316684977202, \"value\": 6.0}, \"1\": {\"effect\": -0.006576609260304913, \"value\": 2.2}, \"2\": {\"effect\": -0.20187745711161675, \"value\": 5.0}, \"3\": {\"effect\": -0.1677142651303581, \"value\": 1.5}}}, {\"outValue\": 0.99, \"simIndex\": 2.0, \"features\": {\"0\": {\"effect\": 0.0012319967316031988, \"value\": 5.7}, \"1\": {\"effect\": 0.013932460990432003, \"value\": 3.8}, \"2\": {\"effect\": 0.31094206779332867, \"value\": 1.7}, \"3\": {\"effect\": 0.26809347448463605, \"value\": 0.3}}}, {\"outValue\": 1.0, \"simIndex\": 27.0, \"features\": {\"0\": {\"effect\": 0.04993386233028642, \"value\": 5.0}, \"1\": {\"effect\": 0.00333425129946869, \"value\": 3.4}, \"2\": {\"effect\": 0.296057415919336, \"value\": 1.5}, \"3\": {\"effect\": 0.2548744704509089, \"value\": 0.2}}}, {\"outValue\": 1.0, \"simIndex\": 35.0, \"features\": {\"0\": {\"effect\": 0.04993386233028642, \"value\": 4.9}, \"1\": {\"effect\": 0.00333425129946869, \"value\": 3.1}, \"2\": {\"effect\": 0.296057415919336, \"value\": 1.5}, \"3\": {\"effect\": 0.2548744704509089, \"value\": 0.1}}}, {\"outValue\": 1.1102230246251565e-16, \"simIndex\": 98.0, \"features\": {\"0\": {\"effect\": 0.018709426593556164, \"value\": 5.5}, \"1\": {\"effect\": -0.014344593004375617, \"value\": 2.6}, \"2\": {\"effect\": -0.20682159136194797, \"value\": 4.4}, \"3\": {\"effect\": -0.19334324222723254, \"value\": 1.2}}}, {\"outValue\": 1.1102230246251565e-16, \"simIndex\": 79.0, \"features\": {\"0\": {\"effect\": -0.020000061119591083, \"value\": 7.7}, \"1\": {\"effect\": -0.005671536796536797, \"value\": 2.8}, \"2\": {\"effect\": -0.19653791993460984, \"value\": 6.7}, \"3\": {\"effect\": -0.1735904821492622, \"value\": 2.0}}}, {\"outValue\": 1.1102230246251565e-16, \"simIndex\": 78.0, \"features\": {\"0\": {\"effect\": -0.020000061119591083, \"value\": 7.7}, \"1\": {\"effect\": -0.005671536796536797, \"value\": 2.6}, \"2\": {\"effect\": -0.19653791993460984, \"value\": 6.9}, \"3\": {\"effect\": -0.1735904821492622, \"value\": 2.3}}}, {\"outValue\": 1.0, \"simIndex\": 8.0, \"features\": {\"0\": {\"effect\": 0.04405052899695308, \"value\": 5.1}, \"1\": {\"effect\": 0.007900917966135356, \"value\": 3.7}, \"2\": {\"effect\": 0.29670741591933597, \"value\": 1.5}, \"3\": {\"effect\": 0.25554113711757553, \"value\": 0.4}}}, {\"outValue\": 1.1102230246251565e-16, \"simIndex\": 75.0, \"features\": {\"0\": {\"effect\": -0.019766616266001298, \"value\": 6.3}, \"1\": {\"effect\": -0.006571670988699975, \"value\": 2.3}, \"2\": {\"effect\": -0.2007297688025249, \"value\": 4.4}, \"3\": {\"effect\": -0.16873194394277374, \"value\": 1.3}}}, {\"outValue\": 1.1102230246251565e-16, \"simIndex\": 85.0, \"features\": {\"0\": {\"effect\": -0.005484457848771385, \"value\": 5.6}, \"1\": {\"effect\": -0.010066835941835946, \"value\": 2.8}, \"2\": {\"effect\": -0.19748834728503722, \"value\": 4.9}, \"3\": {\"effect\": -0.1827603589243554, \"value\": 2.0}}}, {\"outValue\": 1.0, \"simIndex\": 26.0, \"features\": {\"0\": {\"effect\": 0.04993386233028642, \"value\": 5.2}, \"1\": {\"effect\": 0.00333425129946869, \"value\": 3.4}, \"2\": {\"effect\": 0.296057415919336, \"value\": 1.4}, \"3\": {\"effect\": 0.2548744704509089, \"value\": 0.2}}}, {\"outValue\": 5.551115123125783e-17, \"simIndex\": 90.0, \"features\": {\"0\": {\"effect\": -0.00530742325159186, \"value\": 5.7}, \"1\": {\"effect\": -0.01096697013399912, \"value\": 2.8}, \"2\": {\"effect\": -0.2019519910247472, \"value\": 4.1}, \"3\": {\"effect\": -0.1775736155896618, \"value\": 1.3}}}, {\"outValue\": 1.0, \"simIndex\": 36.0, \"features\": {\"0\": {\"effect\": 0.04993386233028642, \"value\": 5.0}, \"1\": {\"effect\": 0.00333425129946869, \"value\": 3.2}, \"2\": {\"effect\": 0.296057415919336, \"value\": 1.2}, \"3\": {\"effect\": 0.2548744704509089, \"value\": 0.2}}}, {\"outValue\": 1.1102230246251565e-16, \"simIndex\": 61.0, \"features\": {\"0\": {\"effect\": -0.023500061119591083, \"value\": 6.3}, \"1\": {\"effect\": -0.0021715367965367974, \"value\": 2.9}, \"2\": {\"effect\": -0.19653791993460984, \"value\": 5.6}, \"3\": {\"effect\": -0.1735904821492622, \"value\": 1.8}}}, {\"outValue\": 1.1102230246251565e-16, \"simIndex\": 45.0, \"features\": {\"0\": {\"effect\": -0.02599470397673394, \"value\": 6.4}, \"1\": {\"effect\": 0.0008677489177489177, \"value\": 3.2}, \"2\": {\"effect\": -0.1972450627917527, \"value\": 5.3}, \"3\": {\"effect\": -0.1734279821492622, \"value\": 2.3}}}, {\"outValue\": 1.1102230246251565e-16, \"simIndex\": 60.0, \"features\": {\"0\": {\"effect\": -0.023500061119591083, \"value\": 7.3}, \"1\": {\"effect\": -0.0021715367965367974, \"value\": 2.9}, \"2\": {\"effect\": -0.19653791993460984, \"value\": 6.3}, \"3\": {\"effect\": -0.1735904821492622, \"value\": 1.8}}}, {\"outValue\": 1.1102230246251565e-16, \"simIndex\": 83.0, \"features\": {\"0\": {\"effect\": -0.009983315912383548, \"value\": 5.8}, \"1\": {\"effect\": -0.00600487012987013, \"value\": 2.7}, \"2\": {\"effect\": -0.19653791993460984, \"value\": 5.1}, \"3\": {\"effect\": -0.18327389402313643, \"value\": 1.9}}}, {\"outValue\": 1.0, \"simIndex\": 25.0, \"features\": {\"0\": {\"effect\": 0.04993386233028642, \"value\": 4.7}, \"1\": {\"effect\": 0.00333425129946869, \"value\": 3.2}, \"2\": {\"effect\": 0.296057415919336, \"value\": 1.3}, \"3\": {\"effect\": 0.2548744704509089, \"value\": 0.2}}}, {\"outValue\": 0.9899999999999999, \"simIndex\": 1.0, \"features\": {\"0\": {\"effect\": -0.004507663122810757, \"value\": 5.8}, \"1\": {\"effect\": 0.017124565182536196, \"value\": 4.0}, \"2\": {\"effect\": 0.3106775175287784, \"value\": 1.2}, \"3\": {\"effect\": 0.27090558041149604, \"value\": 0.2}}}, {\"outValue\": 0.01000000000000012, \"simIndex\": 88.0, \"features\": {\"0\": {\"effect\": -0.004749871058793766, \"value\": 5.8}, \"1\": {\"effect\": -0.006905004322033308, \"value\": 2.6}, \"2\": {\"effect\": -0.2007297688025249, \"value\": 4.0}, \"3\": {\"effect\": -0.17341535581664796, \"value\": 1.2}}}, {\"outValue\": 1.0, \"simIndex\": 5.0, \"features\": {\"0\": {\"effect\": 0.03509066724115254, \"value\": 5.5}, \"1\": {\"effect\": 0.006847887663105055, \"value\": 3.5}, \"2\": {\"effect\": 0.3050052282437274, \"value\": 1.3}, \"3\": {\"effect\": 0.257256216852015, \"value\": 0.2}}}, {\"outValue\": 1.1102230246251565e-16, \"simIndex\": 93.0, \"features\": {\"0\": {\"effect\": -0.007943137537306143, \"value\": 5.6}, \"1\": {\"effect\": -0.004481255848284835, \"value\": 3.0}, \"2\": {\"effect\": -0.20580199102474717, \"value\": 4.5}, \"3\": {\"effect\": -0.1775736155896618, \"value\": 1.5}}}, {\"outValue\": 1.0, \"simIndex\": 14.0, \"features\": {\"0\": {\"effect\": 0.04480052899695308, \"value\": 5.1}, \"1\": {\"effect\": 0.007150917966135358, \"value\": 3.5}, \"2\": {\"effect\": 0.29670741591933597, \"value\": 1.4}, \"3\": {\"effect\": 0.25554113711757553, \"value\": 0.2}}}, {\"outValue\": 5.551115123125783e-17, \"simIndex\": 95.0, \"features\": {\"0\": {\"effect\": 0.027376354868612278, \"value\": 5.1}, \"1\": {\"effect\": -0.019041562701345313, \"value\": 2.5}, \"2\": {\"effect\": -0.20616233716708382, \"value\": 3.0}, \"3\": {\"effect\": -0.19797245500018312, \"value\": 1.1}}}, {\"outValue\": 1.1102230246251565e-16, \"simIndex\": 53.0, \"features\": {\"0\": {\"effect\": -0.02599470397673394, \"value\": 6.7}, \"1\": {\"effect\": 0.0008677489177489177, \"value\": 3.3}, \"2\": {\"effect\": -0.1972450627917527, \"value\": 5.7}, \"3\": {\"effect\": -0.1734279821492622, \"value\": 2.5}}}, {\"outValue\": 1.1102230246251565e-16, \"simIndex\": 58.0, \"features\": {\"0\": {\"effect\": -0.02387387064340061, \"value\": 5.9}, \"1\": {\"effect\": -0.001090584415584416, \"value\": 3.0}, \"2\": {\"effect\": -0.1972450627917527, \"value\": 5.1}, \"3\": {\"effect\": -0.1735904821492622, \"value\": 1.8}}}, {\"outValue\": 0.9999999999999999, \"simIndex\": 21.0, \"features\": {\"0\": {\"effect\": 0.04917136233028642, \"value\": 4.8}, \"1\": {\"effect\": 0.001109251299468689, \"value\": 3.0}, \"2\": {\"effect\": 0.296057415919336, \"value\": 1.4}, \"3\": {\"effect\": 0.2578619704509088, \"value\": 0.1}}}, {\"outValue\": 1.1102230246251565e-16, \"simIndex\": 44.0, \"features\": {\"0\": {\"effect\": -0.02599470397673394, \"value\": 6.5}, \"1\": {\"effect\": 0.0008677489177489177, \"value\": 3.2}, \"2\": {\"effect\": -0.1972450627917527, \"value\": 5.1}, \"3\": {\"effect\": -0.1734279821492622, \"value\": 2.0}}}, {\"outValue\": 1.0, \"simIndex\": 37.0, \"features\": {\"0\": {\"effect\": 0.04993386233028642, \"value\": 5.1}, \"1\": {\"effect\": 0.00333425129946869, \"value\": 3.3}, \"2\": {\"effect\": 0.296057415919336, \"value\": 1.7}, \"3\": {\"effect\": 0.2548744704509089, \"value\": 0.5}}}, {\"outValue\": 1.0, \"simIndex\": 13.0, \"features\": {\"0\": {\"effect\": 0.04405052899695308, \"value\": 5.1}, \"1\": {\"effect\": 0.007900917966135356, \"value\": 3.8}, \"2\": {\"effect\": 0.29670741591933597, \"value\": 1.5}, \"3\": {\"effect\": 0.25554113711757553, \"value\": 0.3}}}, {\"outValue\": 5.551115123125783e-17, \"simIndex\": 91.0, \"features\": {\"0\": {\"effect\": -0.00530742325159186, \"value\": 5.7}, \"1\": {\"effect\": -0.01096697013399912, \"value\": 2.8}, \"2\": {\"effect\": -0.2019519910247472, \"value\": 4.5}, \"3\": {\"effect\": -0.1775736155896618, \"value\": 1.3}}}, {\"outValue\": 1.0, \"simIndex\": 7.0, \"features\": {\"0\": {\"effect\": 0.04405052899695308, \"value\": 5.2}, \"1\": {\"effect\": 0.007900917966135356, \"value\": 4.1}, \"2\": {\"effect\": 0.29670741591933597, \"value\": 1.5}, \"3\": {\"effect\": 0.25554113711757553, \"value\": 0.1}}}, {\"outValue\": 1.1102230246251565e-16, \"simIndex\": 67.0, \"features\": {\"0\": {\"effect\": -0.024298697483227445, \"value\": 6.7}, \"1\": {\"effect\": -0.0007572510822510826, \"value\": 3.0}, \"2\": {\"effect\": -0.20231627698739313, \"value\": 5.0}, \"3\": {\"effect\": -0.16842777444712828, \"value\": 1.7}}}, {\"outValue\": 0.9999999999999999, \"simIndex\": 20.0, \"features\": {\"0\": {\"effect\": 0.04917136233028642, \"value\": 4.9}, \"1\": {\"effect\": 0.001109251299468689, \"value\": 3.0}, \"2\": {\"effect\": 0.296057415919336, \"value\": 1.4}, \"3\": {\"effect\": 0.2578619704509088, \"value\": 0.2}}}, {\"outValue\": 0.01000000000000012, \"simIndex\": 100.0, \"features\": {\"0\": {\"effect\": 0.02533578176012872, \"value\": 5.4}, \"1\": {\"effect\": -0.002858878718661329, \"value\": 3.0}, \"2\": {\"effect\": -0.2103726783184697, \"value\": 4.5}, \"3\": {\"effect\": -0.19790422472299762, \"value\": 1.5}}}, {\"outValue\": 1.0, \"simIndex\": 24.0, \"features\": {\"0\": {\"effect\": 0.04993386233028642, \"value\": 4.9}, \"1\": {\"effect\": 0.00333425129946869, \"value\": 3.1}, \"2\": {\"effect\": 0.296057415919336, \"value\": 1.5}, \"3\": {\"effect\": 0.2548744704509089, \"value\": 0.1}}}, {\"outValue\": 1.1102230246251565e-16, \"simIndex\": 81.0, \"features\": {\"0\": {\"effect\": -0.020000061119591083, \"value\": 6.4}, \"1\": {\"effect\": -0.005671536796536797, \"value\": 2.8}, \"2\": {\"effect\": -0.19653791993460984, \"value\": 5.6}, \"3\": {\"effect\": -0.1735904821492622, \"value\": 2.1}}}, {\"outValue\": 0.9999999999999999, \"simIndex\": 6.0, \"features\": {\"0\": {\"effect\": 0.0388496502736863, \"value\": 5.4}, \"1\": {\"effect\": 0.007597887663105054, \"value\": 3.7}, \"2\": {\"effect\": 0.30055105486745254, \"value\": 1.5}, \"3\": {\"effect\": 0.257201407195756, \"value\": 0.2}}}, {\"outValue\": 1.0, \"simIndex\": 38.0, \"features\": {\"0\": {\"effect\": 0.04993386233028642, \"value\": 5.0}, \"1\": {\"effect\": 0.00333425129946869, \"value\": 3.3}, \"2\": {\"effect\": 0.296057415919336, \"value\": 1.4}, \"3\": {\"effect\": 0.2548744704509089, \"value\": 0.2}}}, {\"outValue\": 1.1102230246251565e-16, \"simIndex\": 54.0, \"features\": {\"0\": {\"effect\": -0.02599470397673394, \"value\": 6.7}, \"1\": {\"effect\": 0.0008677489177489177, \"value\": 3.1}, \"2\": {\"effect\": -0.1972450627917527, \"value\": 5.6}, \"3\": {\"effect\": -0.1734279821492622, \"value\": 2.4}}}, {\"outValue\": 1.0, \"simIndex\": 23.0, \"features\": {\"0\": {\"effect\": 0.04993386233028642, \"value\": 4.8}, \"1\": {\"effect\": 0.00333425129946869, \"value\": 3.4}, \"2\": {\"effect\": 0.296057415919336, \"value\": 1.9}, \"3\": {\"effect\": 0.2548744704509089, \"value\": 0.2}}}, {\"outValue\": 1.0, \"simIndex\": 18.0, \"features\": {\"0\": {\"effect\": 0.04480052899695308, \"value\": 5.0}, \"1\": {\"effect\": 0.007150917966135358, \"value\": 3.5}, \"2\": {\"effect\": 0.29670741591933597, \"value\": 1.6}, \"3\": {\"effect\": 0.25554113711757553, \"value\": 0.6}}}, {\"outValue\": 1.0, \"simIndex\": 4.0, \"features\": {\"0\": {\"effect\": 0.03434066724115254, \"value\": 5.5}, \"1\": {\"effect\": 0.007597887663105054, \"value\": 4.2}, \"2\": {\"effect\": 0.3050052282437274, \"value\": 1.4}, \"3\": {\"effect\": 0.257256216852015, \"value\": 0.2}}}, {\"outValue\": 1.1102230246251565e-16, \"simIndex\": 84.0, \"features\": {\"0\": {\"effect\": -0.009983315912383548, \"value\": 5.8}, \"1\": {\"effect\": -0.00600487012987013, \"value\": 2.8}, \"2\": {\"effect\": -0.19653791993460984, \"value\": 5.1}, \"3\": {\"effect\": -0.18327389402313643, \"value\": 2.4}}}, {\"outValue\": 1.1102230246251565e-16, \"simIndex\": 77.0, \"features\": {\"0\": {\"effect\": -0.020000061119591083, \"value\": 6.4}, \"1\": {\"effect\": -0.005671536796536797, \"value\": 2.7}, \"2\": {\"effect\": -0.19653791993460984, \"value\": 5.3}, \"3\": {\"effect\": -0.1735904821492622, \"value\": 1.9}}}, {\"outValue\": 1.1102230246251565e-16, \"simIndex\": 64.0, \"features\": {\"0\": {\"effect\": -0.0232666162660013, \"value\": 6.4}, \"1\": {\"effect\": -0.0030716709886999746, \"value\": 2.9}, \"2\": {\"effect\": -0.2007297688025249, \"value\": 4.3}, \"3\": {\"effect\": -0.16873194394277374, \"value\": 1.3}}}, {\"outValue\": 1.1102230246251565e-16, \"simIndex\": 43.0, \"features\": {\"0\": {\"effect\": -0.02599470397673394, \"value\": 6.7}, \"1\": {\"effect\": 0.0008677489177489177, \"value\": 3.3}, \"2\": {\"effect\": -0.1972450627917527, \"value\": 5.7}, \"3\": {\"effect\": -0.1734279821492622, \"value\": 2.1}}}, {\"outValue\": 1.0, \"simIndex\": 39.0, \"features\": {\"0\": {\"effect\": 0.04993386233028642, \"value\": 5.0}, \"1\": {\"effect\": 0.00333425129946869, \"value\": 3.4}, \"2\": {\"effect\": 0.296057415919336, \"value\": 1.6}, \"3\": {\"effect\": 0.2548744704509089, \"value\": 0.4}}}, {\"outValue\": 1.1102230246251565e-16, \"simIndex\": 55.0, \"features\": {\"0\": {\"effect\": -0.02420720397673394, \"value\": 6.8}, \"1\": {\"effect\": -0.0007572510822510826, \"value\": 3.0}, \"2\": {\"effect\": -0.1972450627917527, \"value\": 5.5}, \"3\": {\"effect\": -0.1735904821492622, \"value\": 2.1}}}], \"plot_cmap\": \"RdBu\", \"ordering_keys\": null, \"ordering_keys_time_format\": null}),\n",
       "    document.getElementById('iGE6BOST0WRN7DK03HFC0')\n",
       "  );\n",
       "</script>"
      ],
      "text/plain": [
       "<shap.plots._force.AdditiveForceArrayVisualizer at 0x19fbe6a7280>"
      ]
     },
     "execution_count": 10,
     "metadata": {},
     "output_type": "execute_result"
    }
   ],
   "source": [
    "all_shap_values = explainer.shap_values(x_train)\n",
    "shap.force_plot(explainer.expected_value[0], all_shap_values[0], features=x_train)"
   ]
  },
  {
   "cell_type": "markdown",
   "id": "ba0b51dd",
   "metadata": {},
   "source": [
    "Shap explainer kullanarak bir eğitim veri setindeki tüm örnekler için modelin nasıl karar verdiğini açıklar. "
   ]
  },
  {
   "cell_type": "code",
   "execution_count": 11,
   "id": "83141f53",
   "metadata": {},
   "outputs": [
    {
     "data": {
      "image/png": "[encoded data removed]",
      "text/plain": [
       "<Figure size 576x223.2 with 2 Axes>"
      ]
     },
     "metadata": {
      "needs_background": "light"
     },
     "output_type": "display_data"
    }
   ],
   "source": [
    "shap.summary_plot(all_shap_values[0], features=x_train, feature_names=features)\n"
   ]
  },
  {
   "cell_type": "code",
   "execution_count": null,
   "id": "9715784f",
   "metadata": {},
   "outputs": [],
   "source": []
  }
 ],
 "metadata": {
  "kernelspec": {
   "display_name": "Python 3 (ipykernel)",
   "language": "python",
   "name": "python3"
  },
  "language_info": {
   "codemirror_mode": {
    "name": "ipython",
    "version": 3
   },
   "file_extension": ".py",
   "mimetype": "text/x-python",
   "name": "python",
   "nbconvert_exporter": "python",
   "pygments_lexer": "ipython3",
   "version": "3.9.12"
  }
 },
 "nbformat": 4,
 "nbformat_minor": 5
}
